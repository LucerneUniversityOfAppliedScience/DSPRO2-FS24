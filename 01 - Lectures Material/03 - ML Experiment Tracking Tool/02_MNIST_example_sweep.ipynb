{
 "cells": [
  {
   "cell_type": "markdown",
   "id": "6ae6d159-4927-4eb7-bf06-71ec963ca852",
   "metadata": {},
   "source": [
    "# MNIST Image Classification Example\n",
    "PyTorch Example: https://github.com/pytorch/examples/blob/main/mnist/main.py"
   ]
  },
  {
   "cell_type": "code",
   "execution_count": null,
   "id": "89ac713c-3651-493e-b752-ccd523b613f1",
   "metadata": {},
   "outputs": [],
   "source": [
    "!pip3 install torch torchvision torchmetrics\n",
    "!pip3 install wandb[sweeps]"
   ]
  },
  {
   "cell_type": "code",
   "execution_count": null,
   "id": "82ed5633-ff2e-4e8c-9cc0-575a349de674",
   "metadata": {},
   "outputs": [],
   "source": [
    "from __future__ import print_function\n",
    "from IPython.display import display\n",
    "import numpy as np\n",
    "import argparse\n",
    "import torch\n",
    "import torch.nn as nn\n",
    "import torch.nn.functional as F\n",
    "import torch.optim as optim\n",
    "from torchvision import datasets, transforms\n",
    "from torch.optim.lr_scheduler import StepLR\n",
    "from torchmetrics import Accuracy\n",
    "from pathlib import Path\n",
    "import wandb"
   ]
  },
  {
   "cell_type": "code",
   "execution_count": null,
   "id": "818230ff-c351-4132-a42e-9b3d4b37bb79",
   "metadata": {},
   "outputs": [],
   "source": [
    "SEED = 123\n",
    "torch.manual_seed(SEED)\n",
    "use_cuda = False\n",
    "use_mps = True\n",
    "\n",
    "if use_cuda:\n",
    "    device = torch.device(\"cuda\")\n",
    "elif use_mps:\n",
    "    device = torch.device(\"mps\")\n",
    "else:\n",
    "    device = torch.device(\"cpu\")"
   ]
  },
  {
   "cell_type": "markdown",
   "id": "bb8f9584-53b6-4912-8d45-fa056da19109",
   "metadata": {},
   "source": [
    "## Prepare data"
   ]
  },
  {
   "cell_type": "code",
   "execution_count": null,
   "id": "cf8f003c-088f-4d5d-951d-251c4b73d19f",
   "metadata": {},
   "outputs": [],
   "source": [
    "dataset1 = datasets.MNIST('../data', train=True, download=True)\n",
    "dataset2 = datasets.MNIST('../data', train=False)"
   ]
  },
  {
   "cell_type": "code",
   "execution_count": null,
   "id": "4cd19a64-4e1d-4a55-aa0c-8898ec5fb8af",
   "metadata": {},
   "outputs": [],
   "source": [
    "im_idxs = np.random.RandomState(123).choice(np.arange(len(dataset1)), 10)\n",
    "for im_idx in im_idxs:\n",
    "    im = dataset1[im_idx][0]\n",
    "    display(im)"
   ]
  },
  {
   "cell_type": "code",
   "execution_count": null,
   "id": "ece82d54-4102-4271-be92-005e1da82d1c",
   "metadata": {},
   "outputs": [],
   "source": [
    "BATCH_SIZE = 128"
   ]
  },
  {
   "cell_type": "code",
   "execution_count": null,
   "id": "fb847885-496f-40ce-8938-deec8fa27157",
   "metadata": {},
   "outputs": [],
   "source": [
    "transform=transforms.Compose([\n",
    "    transforms.ToTensor(),\n",
    "    transforms.Normalize((0.1307,), (0.3081,))\n",
    "    ])\n",
    "dataset1 = datasets.MNIST('../data', train=True, download=True,\n",
    "                   transform=transform)\n",
    "dataset2 = datasets.MNIST('../data', train=False,\n",
    "                   transform=transform)\n",
    "train_loader = torch.utils.data.DataLoader(dataset1, batch_size=BATCH_SIZE)\n",
    "val_loader = torch.utils.data.DataLoader(dataset2, batch_size=BATCH_SIZE)"
   ]
  },
  {
   "cell_type": "markdown",
   "id": "61ca369e-13c2-47a5-8995-9c84a5eba57a",
   "metadata": {},
   "source": [
    "## Define NN"
   ]
  },
  {
   "cell_type": "code",
   "execution_count": null,
   "id": "91ebc08d-3e20-45c4-8d92-a2ebdf6aec7c",
   "metadata": {},
   "outputs": [],
   "source": [
    "class Net(nn.Module):\n",
    "    def __init__(self):\n",
    "        super(Net, self).__init__()\n",
    "        self.conv1 = nn.Conv2d(1, 32, 3, 1)\n",
    "        self.conv2 = nn.Conv2d(32, 64, 3, 1)\n",
    "        self.dropout1 = nn.Dropout(0.25)\n",
    "        self.dropout2 = nn.Dropout(0.5)\n",
    "        self.fc1 = nn.Linear(9216, 128)\n",
    "        self.fc2 = nn.Linear(128, 10)\n",
    "\n",
    "    def forward(self, x):\n",
    "        x = self.conv1(x)\n",
    "        x = F.relu(x)\n",
    "        x = self.conv2(x)\n",
    "        x = F.relu(x)\n",
    "        x = F.max_pool2d(x, 2)\n",
    "        x = self.dropout1(x)\n",
    "        x = torch.flatten(x, 1)\n",
    "        x = self.fc1(x)\n",
    "        x = F.relu(x)\n",
    "        x = self.dropout2(x)\n",
    "        x = self.fc2(x)\n",
    "        output = F.log_softmax(x, dim=1)\n",
    "        return output"
   ]
  },
  {
   "cell_type": "markdown",
   "id": "c974d785-0084-4794-abe0-bd572a8afaaf",
   "metadata": {},
   "source": [
    "## Define training loop"
   ]
  },
  {
   "cell_type": "code",
   "execution_count": null,
   "id": "5f5e2a03-a039-46d7-a7f2-26652b495df2",
   "metadata": {},
   "outputs": [],
   "source": [
    "def train(model, device, train_loader, optimizer, epoch):\n",
    "    model.train()\n",
    "    for batch_idx, (data, target) in enumerate(train_loader):\n",
    "        data, target = data.to(device), target.to(device)\n",
    "        optimizer.zero_grad()\n",
    "        output = model(data)\n",
    "        loss = F.nll_loss(output, target)\n",
    "        loss.backward()\n",
    "        optimizer.step()\n",
    "        if batch_idx % 40 == 0:\n",
    "            print('Train Epoch: {} [{}/{} ({:.0f}%)]\\tLoss: {:.6f}'.format(\n",
    "                epoch, batch_idx * len(data), len(train_loader.dataset),\n",
    "                100. * batch_idx / len(train_loader), loss.item()))\n",
    "\n",
    "            pred = output.argmax(dim=1, keepdim=True)  # get the index of the max log-probability\n",
    "            correct = pred.eq(target.view_as(pred)).sum().item()\n",
    "            acc = 100. * correct / BATCH_SIZE       \n",
    "            wandb.log({\"train_loss\": loss, \n",
    "                       \"train_accuracy\": acc, \n",
    "                       \"epoch\": epoch + (batch_idx / len(train_loader))})"
   ]
  },
  {
   "cell_type": "markdown",
   "id": "e9e6f027-7c44-4a8f-b849-56c29124b77d",
   "metadata": {},
   "source": [
    "## Define test loop"
   ]
  },
  {
   "cell_type": "code",
   "execution_count": null,
   "id": "b2fbf964-37f2-40dd-960f-421c585e7863",
   "metadata": {},
   "outputs": [],
   "source": [
    "def test(model, device, val_loader, epoch):\n",
    "    model.eval()\n",
    "    val_loss = 0\n",
    "    correct = 0\n",
    "    with torch.no_grad():\n",
    "        for data, target in val_loader:\n",
    "            data, target = data.to(device), target.to(device)\n",
    "            output = model(data)\n",
    "            val_loss += F.nll_loss(output, target, reduction='sum').item()  # sum up batch loss\n",
    "            pred = output.argmax(dim=1, keepdim=True)  # get the index of the max log-probability\n",
    "            correct += pred.eq(target.view_as(pred)).sum().item()\n",
    "\n",
    "    val_loss /= len(val_loader.dataset)\n",
    "    acc = 100. * correct / len(val_loader.dataset)\n",
    "    print('\\nVal set: Average loss: {:.4f}, Accuracy: {}/{} ({:.0f}%)\\n'.format(\n",
    "        val_loss, correct, len(val_loader.dataset),\n",
    "        100. * correct / len(val_loader.dataset)))\n",
    "    wandb.log({\"val_loss\": val_loss, \"val_accuracy\": acc, \"epoch\": epoch})"
   ]
  },
  {
   "cell_type": "markdown",
   "id": "20f9ac29-4cfa-463b-bb71-8c62a61dd957",
   "metadata": {},
   "source": [
    "## Sweeping hyper-parameters"
   ]
  },
  {
   "cell_type": "code",
   "execution_count": null,
   "id": "7778a091-781f-479a-9a43-ab2406785744",
   "metadata": {},
   "outputs": [],
   "source": [
    "def experiment():\n",
    "    run = wandb.init(\n",
    "        notes=\"DSPRO2 Example\",\n",
    "        config=wandb.config,\n",
    "        reinit=True,\n",
    "    )\n",
    "    Path(\"./mnist_cnn\").mkdir(exist_ok=True)\n",
    "    torch.manual_seed(wandb.config[\"seed\"])\n",
    "    \n",
    "    train_loader = torch.utils.data.DataLoader(dataset1, batch_size=wandb.config[\"batch_size\"])\n",
    "    val_loader = torch.utils.data.DataLoader(dataset2, batch_size=wandb.config[\"batch_size\"])\n",
    "\n",
    "    model = Net().to(device)\n",
    "    if wandb.config[\"optimizer\"] == \"adamw\":\n",
    "        optimizer = optim.AdamW(model.parameters(), lr=wandb.config[\"lr\"])\n",
    "    elif wandb.config[\"optimizer\"] == \"sgd\":\n",
    "        optimizer = optim.SGD(model.parameters(), lr=wandb.config[\"lr\"])\n",
    "    else:\n",
    "        raise ValueError(\"Invalid Optimizer\")\n",
    "    \n",
    "    for epoch in range(1, wandb.config[\"epochs\"] + 1):\n",
    "        train(model, device, train_loader, optimizer, epoch)\n",
    "        test(model, device, val_loader, epoch)\n",
    "        wandb.log({\"epoch\": epoch})\n",
    "        \n",
    "    torch.save(model.state_dict(), \"./mnist_cnn/mnist_cnn.pt\")\n",
    "    wandb.log_model(path=\"./mnist_cnn\", name=\"mnist-cnn\")\n",
    "    run.finish()"
   ]
  },
  {
   "cell_type": "code",
   "execution_count": null,
   "id": "fc6ba63b-4073-4211-8aa4-abdcafa3f009",
   "metadata": {},
   "outputs": [],
   "source": [
    "sweep_config = {\n",
    "    \"name\": \"mnist-sweep-demo\",\n",
    "    \"method\": \"bayes\",\n",
    "    \"metric\": {\"goal\": \"maximize\", \"name\": \"val_accuracy\"},\n",
    "    \"parameters\": {\n",
    "        \"lr\": {\"min\": 0.0001, \"max\": 0.1},\n",
    "        \"batch_size\": {\"values\": [16, 32, 64]},\n",
    "        \"epochs\": {\"values\": [5, 10, 15]},\n",
    "        \"optimizer\": {\"values\": [\"adamw\", \"sgd\"]},\n",
    "        \"seed\": {\"values\": [123]},\n",
    "    },\n",
    "}"
   ]
  },
  {
   "cell_type": "code",
   "execution_count": null,
   "id": "50368835-7e60-4711-8a9e-c87c0b67fc85",
   "metadata": {
    "scrolled": true
   },
   "outputs": [],
   "source": [
    "sweep_id = wandb.sweep(sweep=sweep_config, \n",
    "                       project=\"mnist-wandb-example\")\n",
    "wandb.agent(sweep_id, function=experiment, count=10)"
   ]
  },
  {
   "cell_type": "code",
   "execution_count": null,
   "id": "590c3142-6bb5-481c-882d-0d9eeeb9522b",
   "metadata": {
    "scrolled": true
   },
   "outputs": [],
   "source": [
    "experiment()"
   ]
  },
  {
   "cell_type": "code",
   "execution_count": null,
   "id": "b62cc3e2-c1d6-4362-bdb6-cd3a93c5a753",
   "metadata": {},
   "outputs": [],
   "source": [
    "sweep_id"
   ]
  },
  {
   "cell_type": "code",
   "execution_count": null,
   "id": "3fb2e89a-d967-4187-9b76-264ce4d9e3d0",
   "metadata": {},
   "outputs": [],
   "source": [
    "!wandb sweep iz9pphq9 --cancel"
   ]
  },
  {
   "cell_type": "code",
   "execution_count": null,
   "id": "d215410d-62b3-4829-a57a-5371c863835c",
   "metadata": {},
   "outputs": [],
   "source": []
  }
 ],
 "metadata": {
  "kernelspec": {
   "display_name": "Python 3 (ipykernel)",
   "language": "python",
   "name": "python3"
  },
  "language_info": {
   "codemirror_mode": {
    "name": "ipython",
    "version": 3
   },
   "file_extension": ".py",
   "mimetype": "text/x-python",
   "name": "python",
   "nbconvert_exporter": "python",
   "pygments_lexer": "ipython3",
   "version": "3.11.7"
  }
 },
 "nbformat": 4,
 "nbformat_minor": 5
}
