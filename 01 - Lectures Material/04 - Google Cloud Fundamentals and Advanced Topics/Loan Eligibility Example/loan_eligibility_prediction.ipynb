{
 "cells": [
  {
   "cell_type": "markdown",
   "metadata": {
    "id": "lEhGJmvummkV",
    "scrolled": true
   },
   "source": [
    "# Importing Libraries"
   ]
  },
  {
   "cell_type": "code",
   "execution_count": 1,
   "metadata": {
    "id": "ScNfUPv2nB6-",
    "scrolled": true
   },
   "outputs": [],
   "source": [
    "import pandas as pd\n",
    "import numpy as np\n",
    "import os\n",
    "import matplotlib.pyplot as plt\n",
    "import seaborn as sns\n",
    "import statistics\n",
    "from sklearn.model_selection import train_test_split,GridSearchCV,cross_val_score\n",
    "from sklearn.preprocessing import LabelBinarizer,StandardScaler,OrdinalEncoder\n",
    "from sklearn.metrics import confusion_matrix\n",
    "from sklearn.metrics import roc_auc_score\n",
    "from sklearn.metrics import roc_curve\n",
    "from scipy.stats import boxcox\n",
    "from sklearn.linear_model import LogisticRegression,RidgeClassifier, PassiveAggressiveClassifier\n",
    "from sklearn import metrics\n",
    "from sklearn import preprocessing\n",
    "from sklearn.ensemble import RandomForestClassifier, GradientBoostingClassifier\n",
    "from xgboost import plot_importance\n",
    "from matplotlib import pyplot\n",
    "from sklearn.naive_bayes import BernoulliNB\n",
    "from sklearn.neighbors import KNeighborsClassifier\n",
    "from sklearn.svm import LinearSVC\n",
    "from sklearn.tree import DecisionTreeClassifier\n",
    "from xgboost import XGBClassifier\n",
    "from fancyimpute import KNN, SoftImpute\n",
    "from imblearn.over_sampling import SMOTE\n",
    "import joblib\n",
    "import operator\n",
    "\n",
    "%matplotlib inline\n"
   ]
  },
  {
   "cell_type": "markdown",
   "metadata": {},
   "source": [
    "## Defining system variables"
   ]
  },
  {
   "cell_type": "code",
   "execution_count": 2,
   "metadata": {
    "id": "gxwo4iX1yCQb",
    "scrolled": true
   },
   "outputs": [],
   "source": [
    "import six\n",
    "import sys\n",
    "sys.modules['sklearn.externals.six'] = six"
   ]
  },
  {
   "cell_type": "code",
   "execution_count": 3,
   "metadata": {
    "id": "2kVRJCkhyRSp",
    "scrolled": true
   },
   "outputs": [],
   "source": [
    "import sklearn.neighbors._base\n",
    "sys.modules['sklearn.neighbors.base'] = sklearn.neighbors._base"
   ]
  },
  {
   "cell_type": "code",
   "execution_count": 4,
   "metadata": {
    "id": "JOONLmg7yuah",
    "scrolled": true
   },
   "outputs": [],
   "source": [
    "from sklearn.utils import _safe_indexing\n",
    "sys.modules['sklearn.utils.safe_indexing'] = sklearn.utils._safe_indexing"
   ]
  },
  {
   "cell_type": "markdown",
   "metadata": {},
   "source": [
    "# Defining Useful Functions"
   ]
  },
  {
   "cell_type": "code",
   "execution_count": 5,
   "metadata": {
    "id": "vSgZnQsTx7F5",
    "scrolled": true
   },
   "outputs": [],
   "source": [
    "\n",
    "def classify(est, x, y,X_test,y_test):\n",
    "    # Passing the model and train test dataset to fit the model\n",
    "    est.fit(x, y)\n",
    "    # Predicting the probabilities of the Tet data\n",
    "    y2 = est.predict_proba(X_test)\n",
    "    y1 = est.predict(X_test)\n",
    "\n",
    "    print(\"Accuracy: \", metrics.accuracy_score(y_test, y1))\n",
    "    print(\"Area under the ROC curve: \", metrics.roc_auc_score(y_test, y2[:, 1]))\n",
    "    # Calculate different metrics\n",
    "    print(\"F-metric: \", metrics.f1_score(y_test, y1))\n",
    "    print(\" \")\n",
    "    print(\"Classification report:\")\n",
    "    print(metrics.classification_report(y_test, y1))\n",
    "    print(\" \")\n",
    "    print(\"Evaluation by cross-validation:\")\n",
    "    print(cross_val_score(est, x, y))\n",
    "    \n",
    "    return est, y1, y2[:, 1]\n",
    "\n",
    "\n",
    "# Function to find which features are more important than others through model\n",
    "def feat_importance(estimator):\n",
    "    feature_importance = {}\n",
    "    for index, name in enumerate(df_LC.columns):\n",
    "        feature_importance[name] = estimator.feature_importances_[index]\n",
    "\n",
    "    feature_importance = {k: v for k, v in feature_importance.items()}\n",
    "    sorted_x = sorted(feature_importance.items(), key = operator.itemgetter(1), reverse = True)\n",
    "    \n",
    "    return sorted_x\n",
    "\n",
    "# Model to predict the ROC curve for various models and finding the best one\n",
    "def run_models(X_train, y_train, X_test, y_test, model_type = 'Non-balanced'):\n",
    "    \n",
    "    clfs = {'GradientBoosting': GradientBoostingClassifier(max_depth = 6, n_estimators = 100, max_features = 0.3),\n",
    "            'LogisticRegression' : LogisticRegression(),\n",
    "            #'GaussianNB': GaussianNB(),\n",
    "            'RandomForestClassifier': RandomForestClassifier(n_estimators = 10),\n",
    "            'XGBClassifier': XGBClassifier()\n",
    "            }\n",
    "    cols = ['model_type','model','roc_auc_score', 'matthews_corrcoef', 'precision_score', 'recall_score','f1_score']\n",
    "\n",
    "    models_report = pd.DataFrame(columns = cols)\n",
    "    conf_matrix = dict()\n",
    "\n",
    "    for clf, clf_name in zip(clfs.values(), clfs.keys()):\n",
    "\n",
    "        clf.fit(X_train, y_train)\n",
    "\n",
    "        y_pred = clf.predict(X_test)\n",
    "        y_score = clf.predict_proba(X_test)[:,1]\n",
    "\n",
    "        print('computing {} - {} '.format(clf_name, model_type))\n",
    "\n",
    "        tmp = pd.Series({'model_type': model_type,\n",
    "                         'model': clf_name,\n",
    "                         'roc_auc_score' : metrics.roc_auc_score(y_test, y_score),\n",
    "                         'matthews_corrcoef': metrics.matthews_corrcoef(y_test, y_pred),\n",
    "                         'precision_score': metrics.precision_score(y_test, y_pred),\n",
    "                         'recall_score': metrics.recall_score(y_test, y_pred),\n",
    "                         'f1_score': metrics.f1_score(y_test, y_pred)})\n",
    "\n",
    "        # models_report = models_report.append(tmp, ignore_index = True)\n",
    "        models_report.loc[len(models_report)] = tmp\n",
    "        # models_report = pd.concat([models_report, tmp], axis=0, ignore_index=True)  # Concatenate the DataFrame with the Series\n",
    "        conf_matrix[clf_name] = pd.crosstab(y_test, y_pred, rownames = ['True'], colnames = ['Predicted'], margins=False)\n",
    "        fpr, tpr, thresholds = metrics.roc_curve(y_test, y_score, drop_intermediate = False, pos_label = 1)\n",
    "\n",
    "        plt.figure(1, figsize=(6,6))\n",
    "        plt.xlabel('false positive rate')\n",
    "        plt.ylabel('true positive rate')\n",
    "        plt.title('ROC curve - {}'.format(model_type))\n",
    "        plt.plot(fpr, tpr, label = clf_name )\n",
    "        plt.legend(loc=2, prop = {'size':11})\n",
    "    plt.plot([0,1],[0,1], color = 'black')\n",
    "    \n",
    "    return models_report, conf_matrix"
   ]
  },
  {
   "cell_type": "markdown",
   "metadata": {},
   "source": [
    "# Reading Data from CSV"
   ]
  },
  {
   "cell_type": "code",
   "execution_count": 6,
   "metadata": {},
   "outputs": [],
   "source": [
    "data = pd.read_csv(\"LoansTrainingSet.csv\", low_memory=False)"
   ]
  },
  {
   "cell_type": "code",
   "execution_count": 7,
   "metadata": {
    "colab": {
     "base_uri": "https://localhost:8080/"
    },
    "id": "ADRvAC6H3A07",
    "outputId": "79f2f502-7642-4944-972c-e780a5679c25",
    "scrolled": true
   },
   "outputs": [
    {
     "data": {
      "text/html": [
       "<div>\n",
       "<style scoped>\n",
       "    .dataframe tbody tr th:only-of-type {\n",
       "        vertical-align: middle;\n",
       "    }\n",
       "\n",
       "    .dataframe tbody tr th {\n",
       "        vertical-align: top;\n",
       "    }\n",
       "\n",
       "    .dataframe thead th {\n",
       "        text-align: right;\n",
       "    }\n",
       "</style>\n",
       "<table border=\"1\" class=\"dataframe\">\n",
       "  <thead>\n",
       "    <tr style=\"text-align: right;\">\n",
       "      <th></th>\n",
       "      <th>Loan ID</th>\n",
       "      <th>Customer ID</th>\n",
       "      <th>Loan Status</th>\n",
       "      <th>Current Loan Amount</th>\n",
       "      <th>Term</th>\n",
       "      <th>Credit Score</th>\n",
       "      <th>Years in current job</th>\n",
       "      <th>Home Ownership</th>\n",
       "      <th>Annual Income</th>\n",
       "      <th>Purpose</th>\n",
       "      <th>Monthly Debt</th>\n",
       "      <th>Years of Credit History</th>\n",
       "      <th>Months since last delinquent</th>\n",
       "      <th>Number of Open Accounts</th>\n",
       "      <th>Number of Credit Problems</th>\n",
       "      <th>Current Credit Balance</th>\n",
       "      <th>Maximum Open Credit</th>\n",
       "      <th>Bankruptcies</th>\n",
       "      <th>Tax Liens</th>\n",
       "    </tr>\n",
       "  </thead>\n",
       "  <tbody>\n",
       "    <tr>\n",
       "      <th>0</th>\n",
       "      <td>6cf51492-02a2-423e-b93d-676f05b9ad53</td>\n",
       "      <td>7c202b37-2add-44e8-9aea-d5b119aea935</td>\n",
       "      <td>Loan Refused</td>\n",
       "      <td>12232</td>\n",
       "      <td>Short Term</td>\n",
       "      <td>7280.0</td>\n",
       "      <td>&lt; 1 year</td>\n",
       "      <td>Rent</td>\n",
       "      <td>46643.0</td>\n",
       "      <td>Debt Consolidation</td>\n",
       "      <td>777.39</td>\n",
       "      <td>18.0</td>\n",
       "      <td>10.0</td>\n",
       "      <td>12</td>\n",
       "      <td>0</td>\n",
       "      <td>6762</td>\n",
       "      <td>7946</td>\n",
       "      <td>0.0</td>\n",
       "      <td>0.0</td>\n",
       "    </tr>\n",
       "    <tr>\n",
       "      <th>1</th>\n",
       "      <td>552e7ade-4292-4354-9ff9-c48031697d72</td>\n",
       "      <td>e7217b0a-07ac-47dd-b379-577b5a35b7c6</td>\n",
       "      <td>Loan Refused</td>\n",
       "      <td>25014</td>\n",
       "      <td>Long Term</td>\n",
       "      <td>7330.0</td>\n",
       "      <td>10+ years</td>\n",
       "      <td>Home Mortgage</td>\n",
       "      <td>81099.0</td>\n",
       "      <td>Debt Consolidation</td>\n",
       "      <td>892.09</td>\n",
       "      <td>26.7</td>\n",
       "      <td>NaN</td>\n",
       "      <td>14</td>\n",
       "      <td>0</td>\n",
       "      <td>35706</td>\n",
       "      <td>77961</td>\n",
       "      <td>0.0</td>\n",
       "      <td>0.0</td>\n",
       "    </tr>\n",
       "    <tr>\n",
       "      <th>2</th>\n",
       "      <td>9b5e32b3-8d76-4801-afc8-d729d5a2e6b9</td>\n",
       "      <td>0a62fc41-16c8-40b5-92ff-9e4b763ce714</td>\n",
       "      <td>Loan Refused</td>\n",
       "      <td>16117</td>\n",
       "      <td>Short Term</td>\n",
       "      <td>7240.0</td>\n",
       "      <td>9 years</td>\n",
       "      <td>Home Mortgage</td>\n",
       "      <td>60438.0</td>\n",
       "      <td>Home Improvements</td>\n",
       "      <td>1244.02</td>\n",
       "      <td>16.7</td>\n",
       "      <td>32.0</td>\n",
       "      <td>11</td>\n",
       "      <td>1</td>\n",
       "      <td>11275</td>\n",
       "      <td>14815</td>\n",
       "      <td>1.0</td>\n",
       "      <td>0.0</td>\n",
       "    </tr>\n",
       "    <tr>\n",
       "      <th>3</th>\n",
       "      <td>5419b7c7-ac11-4be2-a8a7-b131fb6d6dbe</td>\n",
       "      <td>30f36c59-5182-4482-8bbb-5b736849ae43</td>\n",
       "      <td>Loan Refused</td>\n",
       "      <td>11716</td>\n",
       "      <td>Short Term</td>\n",
       "      <td>7400.0</td>\n",
       "      <td>3 years</td>\n",
       "      <td>Rent</td>\n",
       "      <td>34171.0</td>\n",
       "      <td>Debt Consolidation</td>\n",
       "      <td>990.94</td>\n",
       "      <td>10.0</td>\n",
       "      <td>NaN</td>\n",
       "      <td>21</td>\n",
       "      <td>0</td>\n",
       "      <td>7009</td>\n",
       "      <td>43533</td>\n",
       "      <td>0.0</td>\n",
       "      <td>0.0</td>\n",
       "    </tr>\n",
       "    <tr>\n",
       "      <th>4</th>\n",
       "      <td>1450910f-9495-4fc9-afaf-9bdf4b9821df</td>\n",
       "      <td>70c26012-bba5-42c0-8dcb-75295ada31bb</td>\n",
       "      <td>Loan Refused</td>\n",
       "      <td>9789</td>\n",
       "      <td>Long Term</td>\n",
       "      <td>6860.0</td>\n",
       "      <td>10+ years</td>\n",
       "      <td>Home Mortgage</td>\n",
       "      <td>47003.0</td>\n",
       "      <td>Home Improvements</td>\n",
       "      <td>503.71</td>\n",
       "      <td>16.7</td>\n",
       "      <td>25.0</td>\n",
       "      <td>13</td>\n",
       "      <td>1</td>\n",
       "      <td>16913</td>\n",
       "      <td>19553</td>\n",
       "      <td>1.0</td>\n",
       "      <td>0.0</td>\n",
       "    </tr>\n",
       "  </tbody>\n",
       "</table>\n",
       "</div>"
      ],
      "text/plain": [
       "                                Loan ID                           Customer ID  \\\n",
       "0  6cf51492-02a2-423e-b93d-676f05b9ad53  7c202b37-2add-44e8-9aea-d5b119aea935   \n",
       "1  552e7ade-4292-4354-9ff9-c48031697d72  e7217b0a-07ac-47dd-b379-577b5a35b7c6   \n",
       "2  9b5e32b3-8d76-4801-afc8-d729d5a2e6b9  0a62fc41-16c8-40b5-92ff-9e4b763ce714   \n",
       "3  5419b7c7-ac11-4be2-a8a7-b131fb6d6dbe  30f36c59-5182-4482-8bbb-5b736849ae43   \n",
       "4  1450910f-9495-4fc9-afaf-9bdf4b9821df  70c26012-bba5-42c0-8dcb-75295ada31bb   \n",
       "\n",
       "    Loan Status  Current Loan Amount        Term  Credit Score  \\\n",
       "0  Loan Refused                12232  Short Term        7280.0   \n",
       "1  Loan Refused                25014   Long Term        7330.0   \n",
       "2  Loan Refused                16117  Short Term        7240.0   \n",
       "3  Loan Refused                11716  Short Term        7400.0   \n",
       "4  Loan Refused                 9789   Long Term        6860.0   \n",
       "\n",
       "  Years in current job Home Ownership  Annual Income             Purpose  \\\n",
       "0             < 1 year           Rent        46643.0  Debt Consolidation   \n",
       "1            10+ years  Home Mortgage        81099.0  Debt Consolidation   \n",
       "2              9 years  Home Mortgage        60438.0   Home Improvements   \n",
       "3              3 years           Rent        34171.0  Debt Consolidation   \n",
       "4            10+ years  Home Mortgage        47003.0   Home Improvements   \n",
       "\n",
       "  Monthly Debt  Years of Credit History  Months since last delinquent  \\\n",
       "0       777.39                     18.0                          10.0   \n",
       "1       892.09                     26.7                           NaN   \n",
       "2      1244.02                     16.7                          32.0   \n",
       "3       990.94                     10.0                           NaN   \n",
       "4       503.71                     16.7                          25.0   \n",
       "\n",
       "   Number of Open Accounts  Number of Credit Problems  Current Credit Balance  \\\n",
       "0                       12                          0                    6762   \n",
       "1                       14                          0                   35706   \n",
       "2                       11                          1                   11275   \n",
       "3                       21                          0                    7009   \n",
       "4                       13                          1                   16913   \n",
       "\n",
       "  Maximum Open Credit  Bankruptcies  Tax Liens  \n",
       "0                7946           0.0        0.0  \n",
       "1               77961           0.0        0.0  \n",
       "2               14815           1.0        0.0  \n",
       "3               43533           0.0        0.0  \n",
       "4               19553           1.0        0.0  "
      ]
     },
     "execution_count": 7,
     "metadata": {},
     "output_type": "execute_result"
    }
   ],
   "source": [
    "data.head()"
   ]
  },
  {
   "cell_type": "code",
   "execution_count": 8,
   "metadata": {},
   "outputs": [
    {
     "data": {
      "text/plain": [
       "111107"
      ]
     },
     "execution_count": 8,
     "metadata": {},
     "output_type": "execute_result"
    }
   ],
   "source": [
    "len(data)"
   ]
  },
  {
   "cell_type": "code",
   "execution_count": 9,
   "metadata": {
    "id": "V8UUzb1y3FnV",
    "scrolled": true
   },
   "outputs": [],
   "source": [
    "# Drop the duplicates with respect to LOAN ID\n",
    "data.drop_duplicates(subset = \"Loan ID\",keep = 'first',inplace = True)"
   ]
  },
  {
   "cell_type": "markdown",
   "metadata": {},
   "source": [
    "## Analyzing Outcome Variable: Loan Status"
   ]
  },
  {
   "cell_type": "code",
   "execution_count": 10,
   "metadata": {
    "colab": {
     "base_uri": "https://localhost:8080/",
     "height": 408
    },
    "id": "ISxmQNST3JHs",
    "outputId": "66605275-bc73-4662-fe32-2e41178f2998"
   },
   "outputs": [
    {
     "data": {
      "image/png": "[encoded data removed]",
      "text/plain": [
       "<Figure size 1000x500 with 1 Axes>"
      ]
     },
     "metadata": {},
     "output_type": "display_data"
    }
   ],
   "source": [
    "# PLotting the loan status \n",
    "status = data[\"Loan Status\"].value_counts() \n",
    "\n",
    "plt.figure(figsize = (10,5))\n",
    "sns.barplot(x = status.index, y = status.values, alpha = 0.5)\n",
    "plt.title('Loan Status distribution')\n",
    "plt.ylabel('Number of Occurrences', fontsize = 12)\n",
    "plt.xlabel('Loan Status', fontsize = 12)\n",
    "plt.show()"
   ]
  },
  {
   "cell_type": "markdown",
   "metadata": {},
   "source": [
    "## Analyzing Current Loan Amount"
   ]
  },
  {
   "cell_type": "code",
   "execution_count": 11,
   "metadata": {
    "colab": {
     "base_uri": "https://localhost:8080/",
     "height": 295
    },
    "id": "eZjs1pbe3QK9",
    "outputId": "cdaaae88-3bd3-41ce-bf8f-7c551b7cf226",
    "scrolled": true
   },
   "outputs": [
    {
     "data": {
      "text/plain": [
       "count    8.891000e+04\n",
       "mean     1.433878e+07\n",
       "std      3.502996e+07\n",
       "min      4.910000e+02\n",
       "25%      8.283000e+03\n",
       "50%      1.435500e+04\n",
       "75%      2.448500e+04\n",
       "max      1.000000e+08\n",
       "Name: Current Loan Amount, dtype: float64"
      ]
     },
     "execution_count": 11,
     "metadata": {},
     "output_type": "execute_result"
    }
   ],
   "source": [
    "# Current Loan Amount #\n",
    "data[\"Current Loan Amount\"].describe()\n"
   ]
  },
  {
   "cell_type": "code",
   "execution_count": 12,
   "metadata": {},
   "outputs": [
    {
     "data": {
      "image/png": "[encoded data removed]",
      "text/plain": [
       "<Figure size 640x480 with 1 Axes>"
      ]
     },
     "metadata": {},
     "output_type": "display_data"
    }
   ],
   "source": [
    "# Current Loan Amount #\n",
    "data[\"Current Loan Amount\"].plot.hist(grid = True, bins = 20, rwidth = 0.9,\n",
    "                                      color ='#607c8e')\n",
    "plt.grid(axis = 'y', alpha = 0.75)"
   ]
  },
  {
   "cell_type": "code",
   "execution_count": 13,
   "metadata": {
    "colab": {
     "base_uri": "https://localhost:8080/"
    },
    "id": "DgOWaS9A3SHA",
    "outputId": "5ad8aab5-113d-435f-937f-9a13cbcb9b7d",
    "scrolled": true
   },
   "outputs": [
    {
     "name": "stdout",
     "output_type": "stream",
     "text": [
      "16202.0\n"
     ]
    }
   ],
   "source": [
    "# Finding IQR's for outlier removal\n",
    "Q1 = data[\"Current Loan Amount\"].quantile(0.25)\n",
    "Q3 = data[\"Current Loan Amount\"].quantile(0.75)\n",
    "IQR = Q3 - Q1\n",
    "print(IQR)"
   ]
  },
  {
   "cell_type": "code",
   "execution_count": 14,
   "metadata": {
    "colab": {
     "base_uri": "https://localhost:8080/"
    },
    "id": "EUkGOb9T3Ur7",
    "outputId": "088e2cbc-8ae6-4582-c0c0-b34eb1c92852",
    "scrolled": true
   },
   "outputs": [
    {
     "data": {
      "text/plain": [
       "5044     99999999\n",
       "5045     99999999\n",
       "5046     99999999\n",
       "5047     99999999\n",
       "5048     99999999\n",
       "           ...   \n",
       "17777    99999999\n",
       "17778    99999999\n",
       "17779    99999999\n",
       "17780    99999999\n",
       "17781    99999999\n",
       "Name: Current Loan Amount, Length: 12738, dtype: int64"
      ]
     },
     "execution_count": 14,
     "metadata": {},
     "output_type": "execute_result"
    }
   ],
   "source": [
    "data[\"Current Loan Amount\"][((data[\"Current Loan Amount\"] < (Q1 - 1.5 * IQR)) |(data[\"Current Loan Amount\"] > (Q3 + 1.5 * IQR)))]"
   ]
  },
  {
   "cell_type": "code",
   "execution_count": 15,
   "metadata": {
    "id": "cGCHNHUt3axb",
    "scrolled": true
   },
   "outputs": [],
   "source": [
    "temp = np.array(data[\"Current Loan Amount\"].values.tolist())\n",
    "data[\"Current Loan Amount_temp\"] = np.where(temp > 9999998, np.nan, temp)\n"
   ]
  },
  {
   "cell_type": "code",
   "execution_count": 16,
   "metadata": {
    "colab": {
     "base_uri": "https://localhost:8080/",
     "height": 421
    },
    "id": "yn6qEcfL3dPY",
    "outputId": "0e5e7eff-9632-4dcf-dba7-31732119e122",
    "scrolled": true
   },
   "outputs": [
    {
     "data": {
      "text/plain": [
       "count         76172.0\n",
       "mean     13933.915756\n",
       "std       8235.921922\n",
       "min             491.0\n",
       "25%            7810.0\n",
       "50%           12038.0\n",
       "75%           19351.0\n",
       "max           35875.0\n",
       "Name: Current Loan Amount_temp, dtype: Float64"
      ]
     },
     "execution_count": 16,
     "metadata": {},
     "output_type": "execute_result"
    },
    {
     "data": {
      "image/png": "[encoded data removed]",
      "text/plain": [
       "<Figure size 640x480 with 1 Axes>"
      ]
     },
     "metadata": {},
     "output_type": "display_data"
    }
   ],
   "source": [
    "# Remove NaN values and replace infinite values with NaN\n",
    "temp = data[\"Current Loan Amount_temp\"].dropna().replace([np.inf, -np.inf], np.nan)\n",
    "\n",
    "# Convert values to integers\n",
    "temp = temp.astype(float).astype('Int64')\n",
    "\n",
    "# Plot histogram\n",
    "temp.plot.hist(grid = True, bins = 20, rwidth = 0.9, color = '#607c8e')\n",
    "\n",
    "# Display summary statistics\n",
    "temp.describe()"
   ]
  },
  {
   "cell_type": "code",
   "execution_count": 17,
   "metadata": {
    "id": "KTgdmyYf3h-P",
    "scrolled": true
   },
   "outputs": [],
   "source": [
    "# Replace values greater than 9999998 with either the 50th percentile or the mean\n",
    "temp = np.array(data[\"Current Loan Amount\"].values.tolist())\n",
    "replacement_value = np.percentile(temp, 50)  # 50th percentile value\n",
    "\n",
    "# Or you can use mean value:\n",
    "# replacement_value = np.mean(temp)\n",
    "data[\"Current Loan Amount\"] = np.where(temp > 9999998, replacement_value, temp).tolist()\n",
    "\n",
    "# Drop the temporary column if it exists\n",
    "data = data.drop(['Current Loan Amount_temp'], axis=1)"
   ]
  },
  {
   "cell_type": "markdown",
   "metadata": {},
   "source": [
    "## Analyzing Loan Term"
   ]
  },
  {
   "cell_type": "code",
   "execution_count": 18,
   "metadata": {
    "colab": {
     "base_uri": "https://localhost:8080/",
     "height": 408
    },
    "id": "QknzhQ1j3jl5",
    "outputId": "f302b0ac-42d7-443e-9c7b-5730a57a5314"
   },
   "outputs": [
    {
     "data": {
      "image/png": "[encoded data removed]",
      "text/plain": [
       "<Figure size 1000x500 with 1 Axes>"
      ]
     },
     "metadata": {},
     "output_type": "display_data"
    }
   ],
   "source": [
    "# Loan Term #\n",
    "status = data[\"Term\"].value_counts() \n",
    "\n",
    "plt.figure(figsize = (10,5))\n",
    "sns.barplot(x = status.index, y = status.values, alpha = 0.8)\n",
    "plt.title('Loan Term distribution')\n",
    "plt.ylabel('Number of Occurrences', fontsize = 12)\n",
    "plt.xlabel('Loan term', fontsize = 12)\n",
    "plt.show()\n"
   ]
  },
  {
   "cell_type": "markdown",
   "metadata": {},
   "source": [
    "## Analyzing Credit Score"
   ]
  },
  {
   "cell_type": "code",
   "execution_count": 19,
   "metadata": {
    "colab": {
     "base_uri": "https://localhost:8080/",
     "height": 404
    },
    "id": "bS39361Q3oW9",
    "outputId": "f36854b9-6fbf-4356-d04a-615e6ae02498",
    "scrolled": true
   },
   "outputs": [
    {
     "data": {
      "text/plain": [
       "count    67572.000000\n",
       "mean      1199.199580\n",
       "std       1680.813805\n",
       "min        585.000000\n",
       "25%        714.000000\n",
       "50%        733.000000\n",
       "75%        744.000000\n",
       "max       7510.000000\n",
       "Name: Credit Score, dtype: float64"
      ]
     },
     "execution_count": 19,
     "metadata": {},
     "output_type": "execute_result"
    }
   ],
   "source": [
    "# Credit Score #\n",
    "\n",
    "data[\"Credit Score\"].describe()"
   ]
  },
  {
   "cell_type": "code",
   "execution_count": 20,
   "metadata": {},
   "outputs": [
    {
     "data": {
      "text/plain": [
       "{'whiskers': [<matplotlib.lines.Line2D at 0x7f62cfca6970>,\n",
       "  <matplotlib.lines.Line2D at 0x7f62cfca6c10>],\n",
       " 'caps': [<matplotlib.lines.Line2D at 0x7f62cfca6eb0>,\n",
       "  <matplotlib.lines.Line2D at 0x7f62cfcb6190>],\n",
       " 'boxes': [<matplotlib.lines.Line2D at 0x7f62cfca66d0>],\n",
       " 'medians': [<matplotlib.lines.Line2D at 0x7f62cfcb6430>],\n",
       " 'fliers': [<matplotlib.lines.Line2D at 0x7f62cfcb66d0>],\n",
       " 'means': []}"
      ]
     },
     "execution_count": 20,
     "metadata": {},
     "output_type": "execute_result"
    },
    {
     "data": {
      "image/png": "[encoded data removed]",
      "text/plain": [
       "<Figure size 640x480 with 1 Axes>"
      ]
     },
     "metadata": {},
     "output_type": "display_data"
    }
   ],
   "source": [
    "# Max is 7510. It should be between 0-800\n",
    "plt.boxplot(data[\"Credit Score\"])"
   ]
  },
  {
   "cell_type": "code",
   "execution_count": 21,
   "metadata": {
    "colab": {
     "base_uri": "https://localhost:8080/"
    },
    "id": "wtRdm_KB3qU4",
    "outputId": "d40bd1eb-0076-4c6f-ddcf-83a94268040c",
    "scrolled": true
   },
   "outputs": [
    {
     "data": {
      "text/plain": [
       "21338"
      ]
     },
     "execution_count": 21,
     "metadata": {},
     "output_type": "execute_result"
    }
   ],
   "source": [
    "data[\"Credit Score\"].isnull().sum()\n"
   ]
  },
  {
   "cell_type": "code",
   "execution_count": 22,
   "metadata": {
    "id": "_GR08d3O3uJa",
    "scrolled": true
   },
   "outputs": [],
   "source": [
    "# Now lets do treatment of the data at hand. Let us firstly divide the values greater than 800 by 10\n",
    "\n",
    "data[\"Credit Score\"] = np.where(data[\"Credit Score\"]>800, data[\"Credit Score\"]/10, data[\"Credit Score\"])\n"
   ]
  },
  {
   "cell_type": "code",
   "execution_count": 23,
   "metadata": {
    "colab": {
     "base_uri": "https://localhost:8080/",
     "height": 352
    },
    "id": "NXGFnB8A31ML",
    "outputId": "59f15a0c-a14b-42f3-eae2-9553b70058a5"
   },
   "outputs": [
    {
     "data": {
      "text/plain": [
       "<seaborn.axisgrid.FacetGrid at 0x7f62cfc642e0>"
      ]
     },
     "execution_count": 23,
     "metadata": {},
     "output_type": "execute_result"
    },
    {
     "data": {
      "image/png": "[encoded data removed]",
      "text/plain": [
       "<Figure size 500x500 with 1 Axes>"
      ]
     },
     "metadata": {},
     "output_type": "display_data"
    }
   ],
   "source": [
    "# Now lets replace the missing values with median \n",
    "# Calculate the median score\n",
    "median_score = statistics.median(data[\"Credit Score\"])\n",
    "\n",
    "# Create a copy of \"Credit Score\" column as \"Credit Score_1\" and fill missing values with the median\n",
    "data[\"Credit Score_1\"] = data[\"Credit Score\"].fillna(median_score)\n",
    "\n",
    "# Create a density plot for the \"Credit Score_1\" column\n",
    "sns.displot(data[\"Credit Score_1\"])\n"
   ]
  },
  {
   "cell_type": "code",
   "execution_count": 24,
   "metadata": {
    "colab": {
     "base_uri": "https://localhost:8080/",
     "height": 386
    },
    "id": "zWWkfxDS34kb",
    "outputId": "2f5ada05-d219-441e-afe4-05d96c6e229b"
   },
   "outputs": [
    {
     "data": {
      "text/plain": [
       "<seaborn.axisgrid.FacetGrid at 0x7f62ce632c40>"
      ]
     },
     "execution_count": 24,
     "metadata": {},
     "output_type": "execute_result"
    },
    {
     "data": {
      "image/png": "[encoded data removed]",
      "text/plain": [
       "<Figure size 500x500 with 1 Axes>"
      ]
     },
     "metadata": {},
     "output_type": "display_data"
    },
    {
     "data": {
      "image/png": "[encoded data removed]",
      "text/plain": [
       "<Figure size 500x500 with 1 Axes>"
      ]
     },
     "metadata": {},
     "output_type": "display_data"
    }
   ],
   "source": [
    "# As we can see this data is skewed so when we replace it with median it is giving us problems. \n",
    "# Replacing with 75th percentile and taking log we get a better distribution\n",
    "\n",
    "# Fill missing values with 741\n",
    "data[\"Credit Score\"].fillna(741, inplace=True) # credit score 741 is good!\n",
    "\n",
    "# Create density plot for the original data\n",
    "sns.displot(data[\"Credit Score\"])\n",
    "\n",
    "# Create density plot for the log-transformed data\n",
    "sns.displot(np.log(data[\"Credit Score\"] + 1))  # Adding 1 to avoid log(0)"
   ]
  },
  {
   "cell_type": "markdown",
   "metadata": {},
   "source": [
    "## Analyzing Home Ownership"
   ]
  },
  {
   "cell_type": "code",
   "execution_count": 25,
   "metadata": {
    "colab": {
     "base_uri": "https://localhost:8080/"
    },
    "id": "D11ymr5s4A-D",
    "outputId": "4ee123f1-3997-45fc-a399-65f0f9581bdf",
    "scrolled": true
   },
   "outputs": [
    {
     "data": {
      "text/plain": [
       "array(['Rent', 'Home Mortgage', 'Own Home', 'HaveMortgage'], dtype=object)"
      ]
     },
     "execution_count": 25,
     "metadata": {},
     "output_type": "execute_result"
    }
   ],
   "source": [
    "data['Home Ownership'].unique()"
   ]
  },
  {
   "cell_type": "markdown",
   "metadata": {},
   "source": [
    "## Analyzing Annual Income"
   ]
  },
  {
   "cell_type": "code",
   "execution_count": 26,
   "metadata": {
    "colab": {
     "base_uri": "https://localhost:8080/"
    },
    "id": "7G_DhsWC4ICh",
    "outputId": "c81bd8c8-30ed-4db0-9b3f-6f35e18d6e91",
    "scrolled": true
   },
   "outputs": [
    {
     "data": {
      "text/plain": [
       "count    6.757200e+04\n",
       "mean     7.234575e+04\n",
       "std      5.836101e+04\n",
       "min      4.033000e+03\n",
       "25%      4.458600e+04\n",
       "50%      6.149400e+04\n",
       "75%      8.675025e+04\n",
       "max      8.713547e+06\n",
       "Name: Annual Income, dtype: float64"
      ]
     },
     "execution_count": 26,
     "metadata": {},
     "output_type": "execute_result"
    }
   ],
   "source": [
    "# Annual Income #\n",
    "data['Annual Income'].describe()\n"
   ]
  },
  {
   "cell_type": "code",
   "execution_count": 27,
   "metadata": {
    "colab": {
     "base_uri": "https://localhost:8080/"
    },
    "id": "0GnaT47z4J7w",
    "outputId": "51b48b84-71ae-49e2-801c-5fb99a59a199",
    "scrolled": true
   },
   "outputs": [
    {
     "data": {
      "text/plain": [
       "0.200     40764.00\n",
       "0.750     86750.25\n",
       "0.900    119916.00\n",
       "0.950    147645.00\n",
       "0.990    239286.96\n",
       "0.999    491575.77\n",
       "Name: Annual Income, dtype: float64"
      ]
     },
     "execution_count": 27,
     "metadata": {},
     "output_type": "execute_result"
    }
   ],
   "source": [
    "# Lets look at the quantiles of this column\n",
    "\n",
    "data['Annual Income'].quantile([.2,0.75,0.90,.95,0.99,.999])\n"
   ]
  },
  {
   "cell_type": "code",
   "execution_count": 28,
   "metadata": {
    "colab": {
     "base_uri": "https://localhost:8080/"
    },
    "id": "OeXP1lAj4Ngp",
    "outputId": "b6fb9c57-1242-4ff9-980f-dfe5a26abddd",
    "scrolled": true
   },
   "outputs": [
    {
     "data": {
      "text/plain": [
       "21338"
      ]
     },
     "execution_count": 28,
     "metadata": {},
     "output_type": "execute_result"
    }
   ],
   "source": [
    "# As we can see they lie in the 99th percentile of the data. Lets replace them\n",
    "# Capping any values greater than 99% to 99th value\n",
    "data.loc[data['Annual Income'] > 239287, 'Annual Income'] = 239287\n",
    "\n",
    "data['Annual Income'].isna().sum()\n",
    "\n",
    "# So we have about 21000 null values \n",
    "# We will impute the mising data with other columns towards the end\n"
   ]
  },
  {
   "cell_type": "markdown",
   "metadata": {},
   "source": [
    "## Analyzing Loan Purpose"
   ]
  },
  {
   "cell_type": "code",
   "execution_count": 29,
   "metadata": {
    "colab": {
     "base_uri": "https://localhost:8080/"
    },
    "id": "KmJY2oBj4Y84",
    "outputId": "3742eed9-a221-4da9-ea8c-ba5cf7688c64",
    "scrolled": true
   },
   "outputs": [
    {
     "data": {
      "text/plain": [
       "Purpose\n",
       "Debt Consolidation      70447\n",
       "Home Improvements        5206\n",
       "other                    4917\n",
       "Other                    2850\n",
       "Business Loan            1328\n",
       "Buy a Car                1196\n",
       "Medical Bills             955\n",
       "Buy House                 559\n",
       "Take a Trip               454\n",
       "major_purchase            344\n",
       "small_business            248\n",
       "moving                    124\n",
       "wedding                    99\n",
       "Educational Expenses       92\n",
       "vacation                   82\n",
       "renewable_energy            9\n",
       "Name: count, dtype: int64"
      ]
     },
     "execution_count": 29,
     "metadata": {},
     "output_type": "execute_result"
    }
   ],
   "source": [
    "# Loan Purpose #\n",
    "data['Purpose'].value_counts()"
   ]
  },
  {
   "cell_type": "markdown",
   "metadata": {},
   "source": [
    "## Analyzing Monthly Debt"
   ]
  },
  {
   "cell_type": "code",
   "execution_count": 30,
   "metadata": {
    "colab": {
     "base_uri": "https://localhost:8080/"
    },
    "id": "w212J-Vs4eQ_",
    "outputId": "5114a922-6e92-4ad5-872e-8796cf8b5a1b",
    "scrolled": true
   },
   "outputs": [
    {
     "data": {
      "text/plain": [
       "count     88910\n",
       "unique    70066\n",
       "top           0\n",
       "freq         69\n",
       "Name: Monthly Debt, dtype: object"
      ]
     },
     "execution_count": 30,
     "metadata": {},
     "output_type": "execute_result"
    }
   ],
   "source": [
    "# Monthly debt #\n",
    "data['Monthly Debt'].describe()\n",
    "\n",
    "# So this is not numeric column. Lets explore"
   ]
  },
  {
   "cell_type": "code",
   "execution_count": 31,
   "metadata": {
    "colab": {
     "base_uri": "https://localhost:8080/",
     "height": 461
    },
    "id": "QJE01p0H4kvL",
    "outputId": "72f5d791-a95d-4b08-efd8-9e81b702e9a3",
    "scrolled": true
   },
   "outputs": [],
   "source": [
    "# pd.to_numeric(data['Monthly Debt'] )\n",
    "# As we can see there is a $ symbol present. Lets replace it \n"
   ]
  },
  {
   "cell_type": "code",
   "execution_count": 32,
   "metadata": {
    "colab": {
     "base_uri": "https://localhost:8080/",
     "height": 351
    },
    "id": "eKoFCjtr4sEC",
    "outputId": "35ad85ea-298e-4471-cb50-1b05feb0b3d3",
    "scrolled": true
   },
   "outputs": [
    {
     "data": {
      "text/plain": [
       "<seaborn.axisgrid.FacetGrid at 0x7f62cfa98a00>"
      ]
     },
     "execution_count": 32,
     "metadata": {},
     "output_type": "execute_result"
    },
    {
     "data": {
      "image/png": "[encoded data removed]",
      "text/plain": [
       "<Figure size 500x500 with 1 Axes>"
      ]
     },
     "metadata": {},
     "output_type": "display_data"
    }
   ],
   "source": [
    "# Replace '$' symbol with an empty string and convert to numeric\n",
    "data['Monthly Debt'] = pd.to_numeric(data['Monthly Debt'].str.replace('$', ''))\n",
    "\n",
    "sns.displot(data[\"Monthly Debt\"])\n"
   ]
  },
  {
   "cell_type": "code",
   "execution_count": 33,
   "metadata": {
    "colab": {
     "base_uri": "https://localhost:8080/"
    },
    "id": "cMxKo5zX5Mnr",
    "outputId": "394bfb6c-7a61-43f5-c163-5b30c5b1ec81",
    "scrolled": true
   },
   "outputs": [
    {
     "data": {
      "text/plain": [
       "count    88910.000000\n",
       "mean       963.102059\n",
       "std        637.524064\n",
       "min          0.000000\n",
       "25%        532.220000\n",
       "50%        843.925000\n",
       "75%       1250.527500\n",
       "max      22939.120000\n",
       "Name: Monthly Debt, dtype: float64"
      ]
     },
     "execution_count": 33,
     "metadata": {},
     "output_type": "execute_result"
    }
   ],
   "source": [
    "data['Monthly Debt'].describe()\n",
    "# The max value is too high here\n"
   ]
  },
  {
   "cell_type": "code",
   "execution_count": 34,
   "metadata": {
    "colab": {
     "base_uri": "https://localhost:8080/"
    },
    "id": "H2o1-coN5QAM",
    "outputId": "e6b86516-ebd9-4fcd-8ee5-38cc488482bd",
    "scrolled": true
   },
   "outputs": [
    {
     "data": {
      "text/plain": [
       "0.200     463.75000\n",
       "0.750    1250.52750\n",
       "0.900    1743.08300\n",
       "0.950    2115.51100\n",
       "0.990    3087.11100\n",
       "0.999    4926.37475\n",
       "Name: Monthly Debt, dtype: float64"
      ]
     },
     "execution_count": 34,
     "metadata": {},
     "output_type": "execute_result"
    }
   ],
   "source": [
    "data['Monthly Debt'].quantile([.2,0.75,0.90,.95,0.99,.999])\n"
   ]
  },
  {
   "cell_type": "code",
   "execution_count": 35,
   "metadata": {
    "colab": {
     "base_uri": "https://localhost:8080/"
    },
    "id": "kuo8L4XO5TFE",
    "outputId": "79b49c3b-dc3d-45a7-9c20-a1dd3f4b4c61",
    "scrolled": true
   },
   "outputs": [
    {
     "data": {
      "text/plain": [
       "0.9995    5482.111455\n",
       "0.9999    7774.610660\n",
       "Name: Monthly Debt, dtype: float64"
      ]
     },
     "execution_count": 35,
     "metadata": {},
     "output_type": "execute_result"
    }
   ],
   "source": [
    "# Problem is with 99th percentile. lets dig deeper\n",
    "\n",
    "data['Monthly Debt'].quantile([0.9995,.9999])\n",
    "# So problem again is wit 99th percentile\n"
   ]
  },
  {
   "cell_type": "code",
   "execution_count": 36,
   "metadata": {
    "colab": {
     "base_uri": "https://localhost:8080/"
    },
    "id": "5jmNMF-q5U4V",
    "outputId": "6ad9b16b-65c0-49e6-b650-8ade38ef1886",
    "scrolled": true
   },
   "outputs": [
    {
     "data": {
      "text/plain": [
       "0.99970     5978.574911\n",
       "0.99999    13262.762330\n",
       "Name: Monthly Debt, dtype: float64"
      ]
     },
     "execution_count": 36,
     "metadata": {},
     "output_type": "execute_result"
    }
   ],
   "source": [
    "data['Monthly Debt'].quantile([0.9997,.99999])\n",
    "# 0.99970     5978.574911\n",
    "# 0.99999    13262.762330\n"
   ]
  },
  {
   "cell_type": "code",
   "execution_count": 37,
   "metadata": {
    "colab": {
     "base_uri": "https://localhost:8080/"
    },
    "id": "XDVLS5Iv5XCJ",
    "outputId": "7197128a-805b-4fc6-8ef5-6f5ce4bc8633",
    "scrolled": true
   },
   "outputs": [
    {
     "data": {
      "text/plain": [
       "0.999     4926.37475\n",
       "1.000    22939.12000\n",
       "Name: Monthly Debt, dtype: float64"
      ]
     },
     "execution_count": 37,
     "metadata": {},
     "output_type": "execute_result"
    }
   ],
   "source": [
    "data['Monthly Debt'].quantile([0.999,1])\n"
   ]
  },
  {
   "cell_type": "code",
   "execution_count": 38,
   "metadata": {
    "colab": {
     "base_uri": "https://localhost:8080/",
     "height": 351
    },
    "id": "UUkUQ8A35apF",
    "outputId": "3732a477-5048-4df3-9706-15e06424eb1a",
    "scrolled": true
   },
   "outputs": [
    {
     "data": {
      "text/plain": [
       "<seaborn.axisgrid.FacetGrid at 0x7f62cdb55ee0>"
      ]
     },
     "execution_count": 38,
     "metadata": {},
     "output_type": "execute_result"
    },
    {
     "data": {
      "image/png": "[encoded data removed]",
      "text/plain": [
       "<Figure size 500x500 with 1 Axes>"
      ]
     },
     "metadata": {},
     "output_type": "display_data"
    }
   ],
   "source": [
    "# Need to replace this\n",
    "data.loc[data['Monthly Debt'] > 4926, 'Monthly Debt'] = 4926\n",
    "\n",
    "sns.displot(data[\"Monthly Debt\"])\n",
    "# Now we get the right distribution\n"
   ]
  },
  {
   "cell_type": "markdown",
   "metadata": {},
   "source": [
    "## Analyzing Years of Credit History"
   ]
  },
  {
   "cell_type": "code",
   "execution_count": 39,
   "metadata": {
    "colab": {
     "base_uri": "https://localhost:8080/",
     "height": 351
    },
    "id": "F-sPV37_5dfh",
    "outputId": "e92e984f-a130-407e-f694-aafc6953f33e",
    "scrolled": true
   },
   "outputs": [
    {
     "data": {
      "text/plain": [
       "<seaborn.axisgrid.FacetGrid at 0x7f62cd8a4d00>"
      ]
     },
     "execution_count": 39,
     "metadata": {},
     "output_type": "execute_result"
    },
    {
     "data": {
      "image/png": "[encoded data removed]",
      "text/plain": [
       "<Figure size 500x500 with 1 Axes>"
      ]
     },
     "metadata": {},
     "output_type": "display_data"
    }
   ],
   "source": [
    "# Years of credit history #\n",
    "\n",
    "data['Years of Credit History'].value_counts()\n",
    "\n",
    "sns.displot(data[\"Years of Credit History\"])\n",
    "# Over all looks pretty clean! no need of doing anything\n"
   ]
  },
  {
   "cell_type": "markdown",
   "metadata": {},
   "source": [
    "## Analyzing the Months since last delinquent "
   ]
  },
  {
   "cell_type": "code",
   "execution_count": 40,
   "metadata": {
    "colab": {
     "base_uri": "https://localhost:8080/"
    },
    "id": "QXCgrTLE5hnY",
    "outputId": "6cfb94f0-011e-4114-a34c-c403d3ab8b04",
    "scrolled": true
   },
   "outputs": [
    {
     "data": {
      "text/plain": [
       "count    40404.000000\n",
       "mean        35.080289\n",
       "std         22.008583\n",
       "min          0.000000\n",
       "25%         16.000000\n",
       "50%         32.000000\n",
       "75%         51.000000\n",
       "max        176.000000\n",
       "Name: Months since last delinquent, dtype: float64"
      ]
     },
     "execution_count": 40,
     "metadata": {},
     "output_type": "execute_result"
    }
   ],
   "source": [
    "# Months since last delinquent #\n",
    "data['Months since last delinquent'].describe()\n"
   ]
  },
  {
   "cell_type": "code",
   "execution_count": 41,
   "metadata": {
    "colab": {
     "base_uri": "https://localhost:8080/"
    },
    "id": "P6SkuptO5jgy",
    "outputId": "5eb19e61-7491-4226-e2a1-e59b6e4e4b7d",
    "scrolled": true
   },
   "outputs": [
    {
     "data": {
      "text/plain": [
       "48506"
      ]
     },
     "execution_count": 41,
     "metadata": {},
     "output_type": "execute_result"
    }
   ],
   "source": [
    "# Lets check if there are any NA's\n",
    "data['Months since last delinquent'].isna().sum()\n",
    "\n",
    "# We have nearly 48506 NA's. We will try to handle them later"
   ]
  },
  {
   "cell_type": "markdown",
   "metadata": {},
   "source": [
    "## Analyzing the number of Open Accounts"
   ]
  },
  {
   "cell_type": "code",
   "execution_count": 42,
   "metadata": {
    "colab": {
     "base_uri": "https://localhost:8080/"
    },
    "id": "UrL8e8gM5vv9",
    "outputId": "5195f9d9-19af-41bf-f8fb-b4abea4cf055",
    "scrolled": true
   },
   "outputs": [
    {
     "data": {
      "text/plain": [
       "count    88910.000000\n",
       "mean        11.110348\n",
       "std          4.978461\n",
       "min          0.000000\n",
       "25%          8.000000\n",
       "50%         10.000000\n",
       "75%         14.000000\n",
       "max         76.000000\n",
       "Name: Number of Open Accounts, dtype: float64"
      ]
     },
     "execution_count": 42,
     "metadata": {},
     "output_type": "execute_result"
    }
   ],
   "source": [
    "# Number of open accounts #\n",
    "data['Number of Open Accounts'].describe()\n",
    "\n",
    "# The max number seems odd. Lets investigate"
   ]
  },
  {
   "cell_type": "code",
   "execution_count": 43,
   "metadata": {
    "colab": {
     "base_uri": "https://localhost:8080/",
     "height": 351
    },
    "id": "gkeztB-r5y34",
    "outputId": "1f31bf89-5854-4e5f-f578-98c82e0cd988",
    "scrolled": true
   },
   "outputs": [
    {
     "data": {
      "text/plain": [
       "<seaborn.axisgrid.FacetGrid at 0x7f62cd87d8b0>"
      ]
     },
     "execution_count": 43,
     "metadata": {},
     "output_type": "execute_result"
    },
    {
     "data": {
      "image/png": "[encoded data removed]",
      "text/plain": [
       "<Figure size 500x500 with 1 Axes>"
      ]
     },
     "metadata": {},
     "output_type": "display_data"
    }
   ],
   "source": [
    "sns.displot(data['Number of Open Accounts'])\n",
    "# Yes there are outliers in this columns. Let dig deeper\n"
   ]
  },
  {
   "cell_type": "code",
   "execution_count": 44,
   "metadata": {
    "colab": {
     "base_uri": "https://localhost:8080/"
    },
    "id": "4zc6CnDF51X5",
    "outputId": "2ef0efaf-322e-4e69-f0ba-98c46f69b88f",
    "scrolled": true
   },
   "outputs": [
    {
     "data": {
      "text/plain": [
       "0.750    14.0\n",
       "0.999    36.0\n",
       "1.000    76.0\n",
       "Name: Number of Open Accounts, dtype: float64"
      ]
     },
     "execution_count": 44,
     "metadata": {},
     "output_type": "execute_result"
    }
   ],
   "source": [
    "data['Number of Open Accounts'].quantile([0.75,0.999,1])\n",
    "# Ok so replacing anything greater than 99th percentile with 99th percentile values\n"
   ]
  },
  {
   "cell_type": "code",
   "execution_count": 45,
   "metadata": {
    "colab": {
     "base_uri": "https://localhost:8080/",
     "height": 351
    },
    "id": "s9TeoHd253x-",
    "outputId": "97bd2f58-ec3c-4b32-a2a5-33e3bac4aad5",
    "scrolled": true
   },
   "outputs": [
    {
     "data": {
      "text/plain": [
       "<seaborn.axisgrid.FacetGrid at 0x7f62cd8ce9a0>"
      ]
     },
     "execution_count": 45,
     "metadata": {},
     "output_type": "execute_result"
    },
    {
     "data": {
      "image/png": "[encoded data removed]",
      "text/plain": [
       "<Figure size 500x500 with 1 Axes>"
      ]
     },
     "metadata": {},
     "output_type": "display_data"
    }
   ],
   "source": [
    "data.loc[data['Number of Open Accounts'] > 36, 'Number of Open Accounts'] = 36\n",
    "\n",
    "sns.displot(data['Number of Open Accounts'])\n",
    "# Looks good now\n"
   ]
  },
  {
   "cell_type": "markdown",
   "metadata": {},
   "source": [
    "## Analyzing Number of Credit Problems"
   ]
  },
  {
   "cell_type": "code",
   "execution_count": 46,
   "metadata": {},
   "outputs": [
    {
     "data": {
      "text/plain": [
       "count    88910.000000\n",
       "mean         0.160477\n",
       "std          0.473746\n",
       "min          0.000000\n",
       "25%          0.000000\n",
       "50%          0.000000\n",
       "75%          0.000000\n",
       "max         15.000000\n",
       "Name: Number of Credit Problems, dtype: float64"
      ]
     },
     "execution_count": 46,
     "metadata": {},
     "output_type": "execute_result"
    }
   ],
   "source": [
    "# Number of Credit problems #\n",
    "data['Number of Credit Problems'].describe() \n",
    "# Max looks a bit higher. Lets see"
   ]
  },
  {
   "cell_type": "code",
   "execution_count": 47,
   "metadata": {
    "colab": {
     "base_uri": "https://localhost:8080/",
     "height": 351
    },
    "id": "bM0vr3CN6Cv0",
    "outputId": "dfddde11-2fc1-47ef-c426-b000740572a7",
    "scrolled": true
   },
   "outputs": [
    {
     "data": {
      "text/plain": [
       "<seaborn.axisgrid.FacetGrid at 0x7f62d00062b0>"
      ]
     },
     "execution_count": 47,
     "metadata": {},
     "output_type": "execute_result"
    },
    {
     "data": {
      "image/png": "[encoded data removed]",
      "text/plain": [
       "<Figure size 500x500 with 1 Axes>"
      ]
     },
     "metadata": {},
     "output_type": "display_data"
    }
   ],
   "source": [
    "\n",
    "sns.displot(data['Number of Credit Problems'])"
   ]
  },
  {
   "cell_type": "code",
   "execution_count": 48,
   "metadata": {
    "colab": {
     "base_uri": "https://localhost:8080/"
    },
    "id": "woLE1MtM6EsG",
    "outputId": "5c5af091-89ad-44fb-fcde-7ee5f27b20d3",
    "scrolled": true
   },
   "outputs": [
    {
     "data": {
      "text/plain": [
       "Number of Credit Problems\n",
       "0     77057\n",
       "1     10271\n",
       "2      1092\n",
       "3       311\n",
       "4       101\n",
       "5        46\n",
       "6        14\n",
       "7         6\n",
       "9         4\n",
       "10        3\n",
       "8         2\n",
       "12        1\n",
       "15        1\n",
       "11        1\n",
       "Name: count, dtype: int64"
      ]
     },
     "execution_count": 48,
     "metadata": {},
     "output_type": "execute_result"
    }
   ],
   "source": [
    "# lets look at value _counts\n",
    "data['Number of Credit Problems'].value_counts()\n",
    "\n",
    "# Okay looks good\n"
   ]
  },
  {
   "cell_type": "markdown",
   "metadata": {},
   "source": [
    "## Analyzing Current Credit Balance"
   ]
  },
  {
   "cell_type": "code",
   "execution_count": 49,
   "metadata": {},
   "outputs": [
    {
     "data": {
      "text/plain": [
       "count    8.891000e+04\n",
       "mean     1.543593e+04\n",
       "std      1.965873e+04\n",
       "min      0.000000e+00\n",
       "25%      5.949000e+03\n",
       "50%      1.103900e+04\n",
       "75%      1.930100e+04\n",
       "max      1.730472e+06\n",
       "Name: Current Credit Balance, dtype: float64"
      ]
     },
     "execution_count": 49,
     "metadata": {},
     "output_type": "execute_result"
    }
   ],
   "source": [
    "# Current Credit Balance #\n",
    "data['Current Credit Balance'].describe()"
   ]
  },
  {
   "cell_type": "code",
   "execution_count": 50,
   "metadata": {
    "colab": {
     "base_uri": "https://localhost:8080/",
     "height": 362
    },
    "id": "aug_2Xh76Grm",
    "outputId": "dc8fde84-d3ab-4710-e262-bacd39f3a097",
    "scrolled": true
   },
   "outputs": [
    {
     "data": {
      "text/plain": [
       "<seaborn.axisgrid.FacetGrid at 0x7f62cd3cd430>"
      ]
     },
     "execution_count": 50,
     "metadata": {},
     "output_type": "execute_result"
    },
    {
     "data": {
      "image/png": "[encoded data removed]",
      "text/plain": [
       "<Figure size 500x500 with 1 Axes>"
      ]
     },
     "metadata": {},
     "output_type": "display_data"
    }
   ],
   "source": [
    "sns.displot(data['Current Credit Balance'])\n",
    "# It seems there are outliers in this data. Lets investigate\n"
   ]
  },
  {
   "cell_type": "code",
   "execution_count": 51,
   "metadata": {
    "colab": {
     "base_uri": "https://localhost:8080/"
    },
    "id": "X2CTOTS86H7S",
    "outputId": "8086ecb6-913e-4291-bcd2-a40d2f6911f6",
    "scrolled": true
   },
   "outputs": [
    {
     "data": {
      "text/plain": [
       "0.750      19301.000\n",
       "0.950      39933.300\n",
       "0.999     227670.033\n",
       "1.000    1730472.000\n",
       "Name: Current Credit Balance, dtype: float64"
      ]
     },
     "execution_count": 51,
     "metadata": {},
     "output_type": "execute_result"
    }
   ],
   "source": [
    "data['Current Credit Balance'].quantile([0.75,0.95,0.999,1])\n"
   ]
  },
  {
   "cell_type": "code",
   "execution_count": 52,
   "metadata": {
    "colab": {
     "base_uri": "https://localhost:8080/"
    },
    "id": "PIZ14d9I6Kjw",
    "outputId": "c7ad8275-cadb-410b-ca9c-8de7a8bd2a6a",
    "scrolled": true
   },
   "outputs": [
    {
     "data": {
      "text/plain": [
       "0.95      39933.30\n",
       "0.96      43501.20\n",
       "0.97      48507.73\n",
       "0.98      57938.12\n",
       "0.99      81007.19\n",
       "1.00    1730472.00\n",
       "Name: Current Credit Balance, dtype: float64"
      ]
     },
     "execution_count": 52,
     "metadata": {},
     "output_type": "execute_result"
    }
   ],
   "source": [
    "#lets dig deeper\n",
    "\n",
    "data['Current Credit Balance'].quantile([0.95,0.96,0.97,0.98,0.99,1])\n"
   ]
  },
  {
   "cell_type": "code",
   "execution_count": 53,
   "metadata": {
    "colab": {
     "base_uri": "https://localhost:8080/",
     "height": 351
    },
    "id": "heG831W96Ovi",
    "outputId": "d5ee0d15-2d12-4753-cedc-7a56e30f9112",
    "scrolled": true
   },
   "outputs": [
    {
     "data": {
      "text/plain": [
       "<seaborn.axisgrid.FacetGrid at 0x7f62cd056dc0>"
      ]
     },
     "execution_count": 53,
     "metadata": {},
     "output_type": "execute_result"
    },
    {
     "data": {
      "image/png": "[encoded data removed]",
      "text/plain": [
       "<Figure size 500x500 with 1 Axes>"
      ]
     },
     "metadata": {},
     "output_type": "display_data"
    }
   ],
   "source": [
    "data.loc[data['Current Credit Balance'] > 81007, 'Current Credit Balance'] = 81007\n",
    "\n",
    "sns.displot(data['Current Credit Balance']**(1/2))\n",
    "# The plot doesnt look good. We need to transform it\n"
   ]
  },
  {
   "cell_type": "code",
   "execution_count": 54,
   "metadata": {
    "id": "cxDA0Kz46Q1s",
    "scrolled": true
   },
   "outputs": [],
   "source": [
    "data['Current Credit Balance'] = data['Current Credit Balance']**(1/2)\n"
   ]
  },
  {
   "cell_type": "markdown",
   "metadata": {},
   "source": [
    "## Analyzing Max Open Credit "
   ]
  },
  {
   "cell_type": "code",
   "execution_count": 55,
   "metadata": {
    "colab": {
     "base_uri": "https://localhost:8080/"
    },
    "id": "LmRwOBcQ6UgS",
    "outputId": "d9292ad3-d7f7-4096-f394-081717d8e18c",
    "scrolled": true
   },
   "outputs": [
    {
     "data": {
      "text/plain": [
       "count     88910\n",
       "unique    46625\n",
       "top           0\n",
       "freq        610\n",
       "Name: Maximum Open Credit, dtype: object"
      ]
     },
     "execution_count": 55,
     "metadata": {},
     "output_type": "execute_result"
    }
   ],
   "source": [
    "# Max Open credit #\n",
    "data['Maximum Open Credit'].describe()\n"
   ]
  },
  {
   "cell_type": "code",
   "execution_count": 56,
   "metadata": {
    "colab": {
     "base_uri": "https://localhost:8080/"
    },
    "id": "hN6dTA_A6WgQ",
    "outputId": "4cb53e56-218d-455d-a275-c264f3aeb6e7",
    "scrolled": true
   },
   "outputs": [
    {
     "data": {
      "text/plain": [
       "Maximum Open Credit\n",
       "0        610\n",
       "10782     10\n",
       "14382     10\n",
       "17464     10\n",
       "11044     10\n",
       "        ... \n",
       "46635      1\n",
       "25110      1\n",
       "54780      1\n",
       "42402      1\n",
       "53374      1\n",
       "Name: count, Length: 46625, dtype: int64"
      ]
     },
     "execution_count": 56,
     "metadata": {},
     "output_type": "execute_result"
    }
   ],
   "source": [
    "data['Maximum Open Credit'].value_counts()\n"
   ]
  },
  {
   "cell_type": "code",
   "execution_count": 57,
   "metadata": {
    "colab": {
     "base_uri": "https://localhost:8080/",
     "height": 635
    },
    "id": "qIuv-oKR6Yu7",
    "outputId": "81afb04a-eaa9-447d-f27e-1bfe7328f2e8",
    "scrolled": true
   },
   "outputs": [],
   "source": [
    "# sns.distplot(data['Maximum Open Credit'])\n",
    "# So there are some str characters present in the data. Lets find them\n",
    "# could not convert string to float: '#VALUE!'\n"
   ]
  },
  {
   "cell_type": "code",
   "execution_count": 58,
   "metadata": {
    "colab": {
     "base_uri": "https://localhost:8080/",
     "height": 443
    },
    "id": "mGP6RWlq6Z8m",
    "outputId": "26fbb368-efb4-40b8-f513-47e7333c3fe9",
    "scrolled": true
   },
   "outputs": [],
   "source": [
    "# pd.to_numeric(data['Maximum Open Credit'])\n",
    "# Unable to parse string \"#VALUE!\" at position 4930"
   ]
  },
  {
   "cell_type": "code",
   "execution_count": 59,
   "metadata": {
    "id": "7JKwAXW16dAB",
    "scrolled": true
   },
   "outputs": [],
   "source": [
    "\n",
    "data['Maximum Open Credit'] = pd.to_numeric(data['Maximum Open Credit'], errors='coerce')\n"
   ]
  },
  {
   "cell_type": "code",
   "execution_count": 60,
   "metadata": {
    "colab": {
     "base_uri": "https://localhost:8080/"
    },
    "id": "BgrU60uB6qtn",
    "outputId": "886f6f22-d652-4582-8628-f496fba2025e",
    "scrolled": true
   },
   "outputs": [
    {
     "data": {
      "text/plain": [
       "2"
      ]
     },
     "execution_count": 60,
     "metadata": {},
     "output_type": "execute_result"
    }
   ],
   "source": [
    "data['Maximum Open Credit'].isnull().sum()\n",
    "# Now we have only 2 NaNs in the data. Lets replace them with mean  \n"
   ]
  },
  {
   "cell_type": "code",
   "execution_count": 61,
   "metadata": {
    "colab": {
     "base_uri": "https://localhost:8080/"
    },
    "id": "tsphMtOl6xlA",
    "outputId": "a0e9ac97-187a-4262-df10-706f8ab2bc7c",
    "scrolled": true
   },
   "outputs": [
    {
     "data": {
      "text/plain": [
       "0.55       24036.85\n",
       "0.76       37260.00\n",
       "0.87       50737.00\n",
       "0.98      114682.88\n",
       "0.99      171423.93\n",
       "1.00    69988086.00\n",
       "Name: Maximum Open Credit, dtype: float64"
      ]
     },
     "execution_count": 61,
     "metadata": {},
     "output_type": "execute_result"
    }
   ],
   "source": [
    "data['Maximum Open Credit'].quantile([0.55,0.76,0.87,0.98,0.99,1])"
   ]
  },
  {
   "cell_type": "code",
   "execution_count": 62,
   "metadata": {
    "id": "80SyQVKg6v9u",
    "scrolled": true
   },
   "outputs": [],
   "source": [
    "data['Maximum Open Credit'] = data['Maximum Open Credit'].fillna(35965)\n"
   ]
  },
  {
   "cell_type": "code",
   "execution_count": 63,
   "metadata": {
    "id": "Y-bwxysQ6z5e",
    "scrolled": true
   },
   "outputs": [],
   "source": [
    "# Lets replace the outliers\n",
    "data.loc[data['Maximum Open Credit'] > 171423, 'Maximum Open Credit'] = 171423\n"
   ]
  },
  {
   "cell_type": "markdown",
   "metadata": {},
   "source": [
    "## Analyzing Bancruptcies"
   ]
  },
  {
   "cell_type": "code",
   "execution_count": 64,
   "metadata": {
    "colab": {
     "base_uri": "https://localhost:8080/"
    },
    "id": "zGLsq9-G62xh",
    "outputId": "27274321-f72b-4e78-bdce-1798422f0ba2",
    "scrolled": true
   },
   "outputs": [
    {
     "data": {
      "text/plain": [
       "count    88718.000000\n",
       "mean         0.112672\n",
       "std          0.343300\n",
       "min          0.000000\n",
       "25%          0.000000\n",
       "50%          0.000000\n",
       "75%          0.000000\n",
       "max          7.000000\n",
       "Name: Bankruptcies, dtype: float64"
      ]
     },
     "execution_count": 64,
     "metadata": {},
     "output_type": "execute_result"
    }
   ],
   "source": [
    "# Bankruptcies #\n",
    "data['Bankruptcies'].describe()\n"
   ]
  },
  {
   "cell_type": "code",
   "execution_count": 65,
   "metadata": {
    "colab": {
     "base_uri": "https://localhost:8080/"
    },
    "id": "svQF_vyL65Yk",
    "outputId": "23bbca2e-12aa-452a-fe50-bb0fa799db3d",
    "scrolled": true
   },
   "outputs": [
    {
     "data": {
      "text/plain": [
       "Bankruptcies\n",
       "0.0    79323\n",
       "1.0     8936\n",
       "2.0      353\n",
       "3.0       80\n",
       "4.0       19\n",
       "5.0        5\n",
       "7.0        1\n",
       "6.0        1\n",
       "Name: count, dtype: int64"
      ]
     },
     "execution_count": 65,
     "metadata": {},
     "output_type": "execute_result"
    }
   ],
   "source": [
    "data['Bankruptcies'].value_counts()\n"
   ]
  },
  {
   "cell_type": "code",
   "execution_count": 66,
   "metadata": {
    "colab": {
     "base_uri": "https://localhost:8080/"
    },
    "id": "RN3BTL0S69TS",
    "outputId": "29ea5b76-6010-4487-ed88-0b83707f4c74",
    "scrolled": true
   },
   "outputs": [
    {
     "data": {
      "text/plain": [
       "array([ 0.,  1., nan,  2.,  4.,  3.,  5.,  7.,  6.])"
      ]
     },
     "execution_count": 66,
     "metadata": {},
     "output_type": "execute_result"
    }
   ],
   "source": [
    "data['Bankruptcies'].unique()\n",
    "\n",
    "# So we have NaN's. Lets fill them with median\n"
   ]
  },
  {
   "cell_type": "code",
   "execution_count": 67,
   "metadata": {
    "id": "1gbCLGqD6-hG",
    "scrolled": true
   },
   "outputs": [],
   "source": [
    "data['Bankruptcies'] = data['Bankruptcies'].fillna(3)\n"
   ]
  },
  {
   "cell_type": "markdown",
   "metadata": {},
   "source": [
    "## Analyzing Tax Liens"
   ]
  },
  {
   "cell_type": "code",
   "execution_count": 68,
   "metadata": {
    "colab": {
     "base_uri": "https://localhost:8080/"
    },
    "id": "F06nUq9Y7CnX",
    "outputId": "ca2744ec-e250-40af-89f4-cde10eafd396",
    "scrolled": true
   },
   "outputs": [
    {
     "data": {
      "text/plain": [
       "count    88902.000000\n",
       "mean         0.028222\n",
       "std          0.257533\n",
       "min          0.000000\n",
       "25%          0.000000\n",
       "50%          0.000000\n",
       "75%          0.000000\n",
       "max         15.000000\n",
       "Name: Tax Liens, dtype: float64"
      ]
     },
     "execution_count": 68,
     "metadata": {},
     "output_type": "execute_result"
    }
   ],
   "source": [
    "# Tax Liens #\n",
    "data['Tax Liens'].describe()\n"
   ]
  },
  {
   "cell_type": "code",
   "execution_count": 69,
   "metadata": {
    "colab": {
     "base_uri": "https://localhost:8080/"
    },
    "id": "X2t-MGQv7F7w",
    "outputId": "e0c7935a-2bd2-4f1a-e3e0-1da7269e3def",
    "scrolled": true
   },
   "outputs": [
    {
     "data": {
      "text/plain": [
       "Tax Liens\n",
       "0.0     87274\n",
       "1.0      1132\n",
       "2.0       305\n",
       "3.0        99\n",
       "4.0        52\n",
       "5.0        17\n",
       "6.0         9\n",
       "7.0         5\n",
       "9.0         4\n",
       "8.0         2\n",
       "15.0        1\n",
       "10.0        1\n",
       "11.0        1\n",
       "Name: count, dtype: int64"
      ]
     },
     "execution_count": 69,
     "metadata": {},
     "output_type": "execute_result"
    }
   ],
   "source": [
    "data['Tax Liens'].value_counts()"
   ]
  },
  {
   "cell_type": "markdown",
   "metadata": {},
   "source": [
    "# Modelling"
   ]
  },
  {
   "cell_type": "markdown",
   "metadata": {},
   "source": [
    "## Hadling Categorical Columns"
   ]
  },
  {
   "cell_type": "code",
   "execution_count": 70,
   "metadata": {
    "id": "QhAYXmTI10R_",
    "scrolled": true
   },
   "outputs": [],
   "source": [
    "cat_cols = ['Term','Years in current job','Home Ownership','Purpose']\n",
    "\n",
    "for c in cat_cols:\n",
    "    data[c] = pd.factorize(data[c])[0]"
   ]
  },
  {
   "cell_type": "markdown",
   "metadata": {},
   "source": [
    "## Imputing Missing Data and Dropping Unnecessary Variables"
   ]
  },
  {
   "cell_type": "code",
   "execution_count": 71,
   "metadata": {
    "colab": {
     "base_uri": "https://localhost:8080/"
    },
    "id": "nZHJqhHq16Gi",
    "outputId": "ff2c114a-0c06-439b-b054-05d4a15fd343",
    "scrolled": true
   },
   "outputs": [
    {
     "name": "stdout",
     "output_type": "stream",
     "text": [
      "[SoftImpute] Max Singular Value of X_init = 23109948.338522\n",
      "[SoftImpute] Iter 1: observed MAE=260.775875 rank=3\n",
      "[SoftImpute] Iter 2: observed MAE=260.733346 rank=3\n",
      "[SoftImpute] Iter 3: observed MAE=260.740490 rank=3\n",
      "[SoftImpute] Iter 4: observed MAE=260.760389 rank=3\n",
      "[SoftImpute] Iter 5: observed MAE=260.783025 rank=3\n",
      "[SoftImpute] Iter 6: observed MAE=260.805662 rank=3\n",
      "[SoftImpute] Iter 7: observed MAE=260.827347 rank=3\n",
      "[SoftImpute] Iter 8: observed MAE=260.847777 rank=3\n",
      "[SoftImpute] Iter 9: observed MAE=260.866844 rank=3\n",
      "[SoftImpute] Iter 10: observed MAE=260.884690 rank=3\n",
      "[SoftImpute] Iter 11: observed MAE=260.901240 rank=3\n",
      "[SoftImpute] Iter 12: observed MAE=260.916512 rank=3\n",
      "[SoftImpute] Iter 13: observed MAE=260.930579 rank=3\n",
      "[SoftImpute] Iter 14: observed MAE=260.943633 rank=3\n",
      "[SoftImpute] Iter 15: observed MAE=260.955568 rank=3\n",
      "[SoftImpute] Iter 16: observed MAE=260.966499 rank=3\n",
      "[SoftImpute] Iter 17: observed MAE=260.976354 rank=3\n",
      "[SoftImpute] Iter 18: observed MAE=260.985328 rank=3\n",
      "[SoftImpute] Iter 19: observed MAE=260.993323 rank=3\n",
      "[SoftImpute] Iter 20: observed MAE=261.000384 rank=3\n",
      "[SoftImpute] Iter 21: observed MAE=261.006493 rank=3\n",
      "[SoftImpute] Iter 22: observed MAE=261.011718 rank=3\n",
      "[SoftImpute] Iter 23: observed MAE=261.016090 rank=3\n",
      "[SoftImpute] Iter 24: observed MAE=261.019754 rank=3\n",
      "[SoftImpute] Iter 25: observed MAE=261.022667 rank=3\n",
      "[SoftImpute] Iter 26: observed MAE=261.024816 rank=3\n",
      "[SoftImpute] Iter 27: observed MAE=261.026251 rank=3\n",
      "[SoftImpute] Iter 28: observed MAE=261.027019 rank=3\n",
      "[SoftImpute] Iter 29: observed MAE=261.027236 rank=3\n",
      "[SoftImpute] Iter 30: observed MAE=261.026953 rank=3\n",
      "[SoftImpute] Iter 31: observed MAE=261.026158 rank=3\n",
      "[SoftImpute] Iter 32: observed MAE=261.024875 rank=3\n",
      "[SoftImpute] Iter 33: observed MAE=261.023099 rank=3\n",
      "[SoftImpute] Iter 34: observed MAE=261.020875 rank=3\n",
      "[SoftImpute] Iter 35: observed MAE=261.018244 rank=3\n",
      "[SoftImpute] Iter 36: observed MAE=261.015252 rank=3\n",
      "[SoftImpute] Iter 37: observed MAE=261.011901 rank=3\n",
      "[SoftImpute] Iter 38: observed MAE=261.008281 rank=3\n",
      "[SoftImpute] Iter 39: observed MAE=261.004322 rank=3\n",
      "[SoftImpute] Iter 40: observed MAE=261.000037 rank=3\n",
      "[SoftImpute] Iter 41: observed MAE=260.995539 rank=3\n",
      "[SoftImpute] Iter 42: observed MAE=260.990780 rank=3\n",
      "[SoftImpute] Iter 43: observed MAE=260.985792 rank=3\n",
      "[SoftImpute] Iter 44: observed MAE=260.980570 rank=3\n",
      "[SoftImpute] Iter 45: observed MAE=260.975186 rank=3\n",
      "[SoftImpute] Iter 46: observed MAE=260.969642 rank=3\n",
      "[SoftImpute] Iter 47: observed MAE=260.963963 rank=3\n",
      "[SoftImpute] Iter 48: observed MAE=260.958136 rank=3\n",
      "[SoftImpute] Iter 49: observed MAE=260.952215 rank=3\n",
      "[SoftImpute] Iter 50: observed MAE=260.946209 rank=3\n",
      "[SoftImpute] Iter 51: observed MAE=260.940113 rank=3\n",
      "[SoftImpute] Iter 52: observed MAE=260.933942 rank=3\n",
      "[SoftImpute] Iter 53: observed MAE=260.927711 rank=3\n",
      "[SoftImpute] Iter 54: observed MAE=260.921429 rank=3\n",
      "[SoftImpute] Iter 55: observed MAE=260.915103 rank=3\n",
      "[SoftImpute] Iter 56: observed MAE=260.908701 rank=3\n",
      "[SoftImpute] Iter 57: observed MAE=260.902270 rank=3\n",
      "[SoftImpute] Iter 58: observed MAE=260.895814 rank=3\n",
      "[SoftImpute] Iter 59: observed MAE=260.889397 rank=3\n",
      "[SoftImpute] Iter 60: observed MAE=260.883009 rank=3\n",
      "[SoftImpute] Iter 61: observed MAE=260.876632 rank=3\n",
      "[SoftImpute] Iter 62: observed MAE=260.870239 rank=3\n",
      "[SoftImpute] Iter 63: observed MAE=260.863862 rank=3\n",
      "[SoftImpute] Iter 64: observed MAE=260.857547 rank=3\n",
      "[SoftImpute] Iter 65: observed MAE=260.851244 rank=3\n",
      "[SoftImpute] Iter 66: observed MAE=260.844969 rank=3\n",
      "[SoftImpute] Iter 67: observed MAE=260.838712 rank=3\n",
      "[SoftImpute] Iter 68: observed MAE=260.832474 rank=3\n",
      "[SoftImpute] Iter 69: observed MAE=260.826272 rank=3\n",
      "[SoftImpute] Iter 70: observed MAE=260.820100 rank=3\n",
      "[SoftImpute] Iter 71: observed MAE=260.813974 rank=3\n",
      "[SoftImpute] Iter 72: observed MAE=260.807911 rank=3\n",
      "[SoftImpute] Iter 73: observed MAE=260.801901 rank=3\n",
      "[SoftImpute] Iter 74: observed MAE=260.795939 rank=3\n",
      "[SoftImpute] Iter 75: observed MAE=260.790032 rank=3\n",
      "[SoftImpute] Iter 76: observed MAE=260.784176 rank=3\n",
      "[SoftImpute] Iter 77: observed MAE=260.778374 rank=3\n",
      "[SoftImpute] Iter 78: observed MAE=260.772635 rank=3\n",
      "[SoftImpute] Iter 79: observed MAE=260.766973 rank=3\n",
      "[SoftImpute] Iter 80: observed MAE=260.761384 rank=3\n",
      "[SoftImpute] Iter 81: observed MAE=260.755875 rank=3\n",
      "[SoftImpute] Iter 82: observed MAE=260.750458 rank=3\n",
      "[SoftImpute] Iter 83: observed MAE=260.745118 rank=3\n",
      "[SoftImpute] Iter 84: observed MAE=260.739862 rank=3\n",
      "[SoftImpute] Iter 85: observed MAE=260.734687 rank=3\n",
      "[SoftImpute] Iter 86: observed MAE=260.729589 rank=3\n",
      "[SoftImpute] Iter 87: observed MAE=260.724553 rank=3\n",
      "[SoftImpute] Iter 88: observed MAE=260.719589 rank=3\n",
      "[SoftImpute] Iter 89: observed MAE=260.714707 rank=3\n",
      "[SoftImpute] Iter 90: observed MAE=260.709909 rank=3\n",
      "[SoftImpute] Iter 91: observed MAE=260.705184 rank=3\n",
      "[SoftImpute] Iter 92: observed MAE=260.700542 rank=3\n",
      "[SoftImpute] Iter 93: observed MAE=260.695981 rank=3\n",
      "[SoftImpute] Iter 94: observed MAE=260.691495 rank=3\n",
      "[SoftImpute] Iter 95: observed MAE=260.687084 rank=3\n",
      "[SoftImpute] Iter 96: observed MAE=260.682748 rank=3\n",
      "[SoftImpute] Iter 97: observed MAE=260.678489 rank=3\n",
      "[SoftImpute] Iter 98: observed MAE=260.674310 rank=3\n",
      "[SoftImpute] Iter 99: observed MAE=260.670204 rank=3\n",
      "[SoftImpute] Iter 100: observed MAE=260.666168 rank=3\n",
      "[SoftImpute] Stopped after iteration 100 for lambda=462198.966770\n"
     ]
    }
   ],
   "source": [
    "# Imputing missing data with soft impute\n",
    "updated_data = pd.DataFrame(data = SoftImpute().fit_transform(data[data.columns[3:19]],), columns = data[data.columns[3:19]].columns, index = data.index)\n",
    "# Getting the dataset ready pd.get dummies function for dropping the dummy variables\n",
    "df_LC = pd.get_dummies(updated_data, drop_first=True)"
   ]
  },
  {
   "cell_type": "markdown",
   "metadata": {},
   "source": [
    "## Handling Target Variable and Preprocessing Factors"
   ]
  },
  {
   "cell_type": "code",
   "execution_count": 72,
   "metadata": {},
   "outputs": [],
   "source": [
    "data['Loan Status'] = data['Loan Status'].fillna('Loan Refused')"
   ]
  },
  {
   "cell_type": "code",
   "execution_count": 73,
   "metadata": {},
   "outputs": [
    {
     "data": {
      "text/plain": [
       "array(['Loan Refused', 'Loan Given'], dtype=object)"
      ]
     },
     "execution_count": 73,
     "metadata": {},
     "output_type": "execute_result"
    }
   ],
   "source": [
    "data['Loan Status'].unique()"
   ]
  },
  {
   "cell_type": "code",
   "execution_count": 74,
   "metadata": {
    "colab": {
     "base_uri": "https://localhost:8080/"
    },
    "id": "ddDq2gpJ2A1f",
    "outputId": "f028a816-ea26-4c5d-afd6-05774b9d1924",
    "scrolled": true
   },
   "outputs": [
    {
     "name": "stdout",
     "output_type": "stream",
     "text": [
      "[[-0.23112821 -0.57302977  0.06886311 ... -0.79845518 -0.32295035\n",
      "  -0.10958407]\n",
      " [ 1.44530309  1.74511004  0.26644983 ...  1.83825771 -0.32295035\n",
      "  -0.10958407]\n",
      " [ 0.27841142 -0.57302977 -0.08920626 ... -0.53977375  2.39304617\n",
      "  -0.10958407]\n",
      " ...\n",
      " [ 1.36398659 -0.57302977  0.78017528 ...  0.91232955 -0.32295035\n",
      "  -0.10958407]\n",
      " [-1.17571107 -0.57302977 -0.16824094 ... -0.4039368  -0.32295035\n",
      "  -0.10958407]\n",
      " [ 0.58387289 -0.57302977 -0.32631031 ... -0.30218149 -0.32295035\n",
      "   3.77361202]]\n",
      "   \n",
      "(88910, 16)\n"
     ]
    }
   ],
   "source": [
    "# Binarizing the Target variable\n",
    "lb_style = LabelBinarizer()\n",
    "lb_results = lb_style.fit_transform(data['Loan Status'])\n",
    "y = lb_results\n",
    "y = y.ravel()\n",
    "\n",
    "# Scaling the independent variables\n",
    "X_scaled = preprocessing.scale(df_LC)\n",
    "print(X_scaled)\n",
    "print('   ')\n",
    "print(X_scaled.shape)\n"
   ]
  },
  {
   "cell_type": "code",
   "execution_count": 75,
   "metadata": {
    "id": "mDmj6_Dk2D1G",
    "scrolled": true
   },
   "outputs": [],
   "source": [
    "# Looking at other models using different classifiers #\n",
    "X_train, X_test, y_train, y_test = train_test_split(X_scaled, y, test_size = 0.3, random_state = 22)"
   ]
  },
  {
   "cell_type": "code",
   "execution_count": 76,
   "metadata": {
    "colab": {
     "base_uri": "https://localhost:8080/",
     "height": 642
    },
    "id": "DG8i8SLz2GZg",
    "outputId": "121da73e-c1f3-41fb-b1db-8d472f1c25b2",
    "scrolled": true
   },
   "outputs": [
    {
     "name": "stdout",
     "output_type": "stream",
     "text": [
      "Accuracy:  0.726389982379185\n",
      "Area under the ROC curve:  0.7394947633951932\n",
      "F-metric:  0.38537982145864913\n",
      " \n",
      "Classification report:\n",
      "              precision    recall  f1-score   support\n",
      "\n",
      "           0       0.76      0.90      0.82     18981\n",
      "           1       0.55      0.30      0.39      7692\n",
      "\n",
      "    accuracy                           0.73     26673\n",
      "   macro avg       0.65      0.60      0.60     26673\n",
      "weighted avg       0.70      0.73      0.70     26673\n",
      "\n",
      " \n",
      "Evaluation by cross-validation:\n",
      "[0.73007712 0.73417416 0.7337511  0.73262634 0.72812726]\n",
      "[0.16703874 0.23084939 0.14140712 0.0311692  0.04476034 0.04969415\n",
      " 0.03414987 0.03290632 0.03169009 0.03070426 0.03009326 0.02951543\n",
      " 0.03393674 0.03623368 0.03347385 0.04237754]\n"
     ]
    },
    {
     "data": {
      "image/png": "[encoded data removed]",
      "text/plain": [
       "<Figure size 640x480 with 1 Axes>"
      ]
     },
     "metadata": {},
     "output_type": "display_data"
    }
   ],
   "source": [
    "# Finding accuracy and feature importance using XGB classifier\n",
    "xgb0, y_pred_b, y_pred2_b = classify(XGBClassifier(), X_train, y_train,X_test,y_test)\n",
    "print(xgb0.feature_importances_)\n",
    "plot_importance(xgb0)\n",
    "pyplot.show()\n",
    "feat1 = feat_importance(xgb0)\n"
   ]
  },
  {
   "cell_type": "code",
   "execution_count": 77,
   "metadata": {
    "colab": {
     "base_uri": "https://localhost:8080/"
    },
    "id": "Wz1Fd1u22M0j",
    "outputId": "40beba34-9517-4daf-8e43-d3be20170170",
    "scrolled": true
   },
   "outputs": [
    {
     "name": "stdout",
     "output_type": "stream",
     "text": [
      "Accuracy:  0.7120683837588573\n",
      "Area under the ROC curve:  0.7394312196806928\n",
      "F-metric:  0.004665629860031105\n",
      " \n",
      "Classification report:\n",
      "              precision    recall  f1-score   support\n",
      "\n",
      "           0       0.71      1.00      0.83     18981\n",
      "           1       0.75      0.00      0.00      7692\n",
      "\n",
      "    accuracy                           0.71     26673\n",
      "   macro avg       0.73      0.50      0.42     26673\n",
      "weighted avg       0.72      0.71      0.59     26673\n",
      "\n",
      " \n",
      "Evaluation by cross-validation:\n",
      "[0.71955334 0.71923201 0.71920945 0.71969149 0.71904877]\n"
     ]
    }
   ],
   "source": [
    "xgb0, y_pred_b, y_pred2_b = classify(XGBClassifier(n_estimators=47, learning_rate=0.015), X_train, y_train,X_test,y_test)"
   ]
  },
  {
   "cell_type": "code",
   "execution_count": 78,
   "metadata": {
    "colab": {
     "base_uri": "https://localhost:8080/"
    },
    "id": "lTDGHAjm78iY",
    "outputId": "b7fd021c-c62d-40d1-9880-9f9924008304",
    "scrolled": true
   },
   "outputs": [
    {
     "name": "stdout",
     "output_type": "stream",
     "text": [
      "Accuracy:  0.6820005248753421\n",
      "Area under the ROC curve:  0.6070197691738869\n",
      "F-metric:  0.3161883263463399\n",
      " \n",
      "Classification report:\n",
      "              precision    recall  f1-score   support\n",
      "\n",
      "           0       0.74      0.86      0.79     18981\n",
      "           1       0.42      0.25      0.32      7692\n",
      "\n",
      "    accuracy                           0.68     26673\n",
      "   macro avg       0.58      0.56      0.55     26673\n",
      "weighted avg       0.65      0.68      0.66     26673\n",
      "\n",
      " \n",
      "Evaluation by cross-validation:\n",
      "[0.69199871 0.69296272 0.69583032 0.68956375 0.68940307]\n"
     ]
    }
   ],
   "source": [
    "# K nearest Neighbour classifier #\n",
    "knc, y_p, y_p2 = classify(KNeighborsClassifier(), X_train, y_train,X_test,y_test)\n"
   ]
  },
  {
   "cell_type": "code",
   "execution_count": 79,
   "metadata": {
    "colab": {
     "base_uri": "https://localhost:8080/"
    },
    "id": "XnQkIMC87_Ng",
    "outputId": "c748a604-072a-4d9c-ec19-3a8e805a413b",
    "scrolled": true
   },
   "outputs": [
    {
     "name": "stdout",
     "output_type": "stream",
     "text": [
      "Accuracy:  0.7191916919731564\n",
      "Area under the ROC curve:  0.6697803394987072\n",
      "F-metric:  0.20639966094511547\n",
      " \n",
      "Classification report:\n",
      "              precision    recall  f1-score   support\n",
      "\n",
      "           0       0.73      0.96      0.83     18981\n",
      "           1       0.56      0.13      0.21      7692\n",
      "\n",
      "    accuracy                           0.72     26673\n",
      "   macro avg       0.64      0.54      0.52     26673\n",
      "weighted avg       0.68      0.72      0.65     26673\n",
      "\n",
      " \n",
      "Evaluation by cross-validation:\n",
      "[0.72405206 0.7276671  0.72668113 0.72708283 0.72411023]\n"
     ]
    }
   ],
   "source": [
    "# Logistic Regression #\n",
    "logit, y_p, y_p2 = classify(LogisticRegression(), X_train, y_train,X_test,y_test)"
   ]
  },
  {
   "cell_type": "code",
   "execution_count": 80,
   "metadata": {
    "colab": {
     "base_uri": "https://localhost:8080/"
    },
    "id": "gdj_OMv_2Qtk",
    "outputId": "961b7049-c914-4df8-a3c9-6acdc0955c7e",
    "scrolled": true
   },
   "outputs": [
    {
     "name": "stdout",
     "output_type": "stream",
     "text": [
      "Accuracy:  0.6482210475012185\n",
      "Area under the ROC curve:  0.5779704801278822\n",
      "F-metric:  0.4031550155842503\n",
      " \n",
      "Classification report:\n",
      "              precision    recall  f1-score   support\n",
      "\n",
      "           0       0.76      0.74      0.75     18981\n",
      "           1       0.39      0.41      0.40      7692\n",
      "\n",
      "    accuracy                           0.65     26673\n",
      "   macro avg       0.58      0.58      0.58     26673\n",
      "weighted avg       0.65      0.65      0.65     26673\n",
      "\n",
      " \n",
      "Evaluation by cross-validation:\n",
      "[0.65898136 0.66163239 0.65895396 0.6586326  0.65180365]\n"
     ]
    }
   ],
   "source": [
    "# Decision Tree Classifier # \n",
    "dtc, y_p, y_p2 = classify(DecisionTreeClassifier(), X_train, y_train,X_test,y_test)"
   ]
  },
  {
   "cell_type": "code",
   "execution_count": 81,
   "metadata": {
    "colab": {
     "base_uri": "https://localhost:8080/",
     "height": 701
    },
    "id": "lTZCkByg2VBg",
    "outputId": "a59978e6-55e8-415f-f240-500de19d938e",
    "scrolled": true
   },
   "outputs": [
    {
     "name": "stdout",
     "output_type": "stream",
     "text": [
      "computing GradientBoosting - Non-balanced \n",
      "computing LogisticRegression - Non-balanced \n",
      "computing RandomForestClassifier - Non-balanced \n",
      "computing XGBClassifier - Non-balanced \n"
     ]
    },
    {
     "data": {
      "text/html": [
       "<div>\n",
       "<style scoped>\n",
       "    .dataframe tbody tr th:only-of-type {\n",
       "        vertical-align: middle;\n",
       "    }\n",
       "\n",
       "    .dataframe tbody tr th {\n",
       "        vertical-align: top;\n",
       "    }\n",
       "\n",
       "    .dataframe thead th {\n",
       "        text-align: right;\n",
       "    }\n",
       "</style>\n",
       "<table border=\"1\" class=\"dataframe\">\n",
       "  <thead>\n",
       "    <tr style=\"text-align: right;\">\n",
       "      <th></th>\n",
       "      <th>model_type</th>\n",
       "      <th>model</th>\n",
       "      <th>roc_auc_score</th>\n",
       "      <th>matthews_corrcoef</th>\n",
       "      <th>precision_score</th>\n",
       "      <th>recall_score</th>\n",
       "      <th>f1_score</th>\n",
       "    </tr>\n",
       "  </thead>\n",
       "  <tbody>\n",
       "    <tr>\n",
       "      <th>0</th>\n",
       "      <td>Non-balanced</td>\n",
       "      <td>GradientBoosting</td>\n",
       "      <td>0.751445</td>\n",
       "      <td>0.243853</td>\n",
       "      <td>0.583617</td>\n",
       "      <td>0.24683</td>\n",
       "      <td>0.346931</td>\n",
       "    </tr>\n",
       "    <tr>\n",
       "      <th>1</th>\n",
       "      <td>Non-balanced</td>\n",
       "      <td>LogisticRegression</td>\n",
       "      <td>0.673092</td>\n",
       "      <td>0.151175</td>\n",
       "      <td>0.556522</td>\n",
       "      <td>0.117139</td>\n",
       "      <td>0.193541</td>\n",
       "    </tr>\n",
       "    <tr>\n",
       "      <th>2</th>\n",
       "      <td>Non-balanced</td>\n",
       "      <td>RandomForestClassifier</td>\n",
       "      <td>0.695369</td>\n",
       "      <td>0.186664</td>\n",
       "      <td>0.504743</td>\n",
       "      <td>0.229572</td>\n",
       "      <td>0.3156</td>\n",
       "    </tr>\n",
       "    <tr>\n",
       "      <th>3</th>\n",
       "      <td>Non-balanced</td>\n",
       "      <td>XGBClassifier</td>\n",
       "      <td>0.741868</td>\n",
       "      <td>0.240836</td>\n",
       "      <td>0.540802</td>\n",
       "      <td>0.292849</td>\n",
       "      <td>0.379951</td>\n",
       "    </tr>\n",
       "  </tbody>\n",
       "</table>\n",
       "</div>"
      ],
      "text/plain": [
       "     model_type                   model roc_auc_score matthews_corrcoef  \\\n",
       "0  Non-balanced        GradientBoosting      0.751445          0.243853   \n",
       "1  Non-balanced      LogisticRegression      0.673092          0.151175   \n",
       "2  Non-balanced  RandomForestClassifier      0.695369          0.186664   \n",
       "3  Non-balanced           XGBClassifier      0.741868          0.240836   \n",
       "\n",
       "  precision_score recall_score  f1_score  \n",
       "0        0.583617      0.24683  0.346931  \n",
       "1        0.556522     0.117139  0.193541  \n",
       "2        0.504743     0.229572    0.3156  \n",
       "3        0.540802     0.292849  0.379951  "
      ]
     },
     "execution_count": 81,
     "metadata": {},
     "output_type": "execute_result"
    },
    {
     "data": {
      "image/png": "[encoded data removed]",
      "text/plain": [
       "<Figure size 600x600 with 1 Axes>"
      ]
     },
     "metadata": {},
     "output_type": "display_data"
    }
   ],
   "source": [
    "X_train, X_test, y_train, y_test = train_test_split(X_scaled, y, test_size = 0.3, random_state = 42)\n",
    "models_report, conf_matrix = run_models(X_train, y_train, X_test, y_test, model_type = 'Non-balanced')\n",
    "models_report"
   ]
  },
  {
   "cell_type": "code",
   "execution_count": 82,
   "metadata": {
    "colab": {
     "base_uri": "https://localhost:8080/",
     "height": 473
    },
    "id": "t1okYTxx8IZg",
    "outputId": "ba5a86c0-ad54-400e-abec-d2bc5aa58264",
    "scrolled": true
   },
   "outputs": [
    {
     "name": "stdout",
     "output_type": "stream",
     "text": [
      "computing GradientBoosting - Balanced \n",
      "computing LogisticRegression - Balanced \n",
      "computing RandomForestClassifier - Balanced \n",
      "computing XGBClassifier - Balanced \n"
     ]
    },
    {
     "data": {
      "image/png": "[encoded data removed]",
      "text/plain": [
       "<Figure size 600x600 with 1 Axes>"
      ]
     },
     "metadata": {},
     "output_type": "display_data"
    }
   ],
   "source": [
    "# Synthetically balancing the dataset # \n",
    "index_split = int(len(X_scaled)/2)\n",
    "X_train, y_train = SMOTE().fit_resample(X_scaled[0:index_split, :], y[0:index_split])\n",
    "X_test, y_test = X_scaled[index_split:], y[index_split:]\n",
    "models_report_bal, conf_matrix_bal = run_models(X_train, y_train, X_test, y_test, model_type = 'Balanced')"
   ]
  },
  {
   "cell_type": "code",
   "execution_count": 83,
   "metadata": {
    "colab": {
     "base_uri": "https://localhost:8080/"
    },
    "id": "k4z7TaJG8LfF",
    "outputId": "a8a660f8-7ba0-44e3-fe63-d63ecba0bca9",
    "scrolled": true
   },
   "outputs": [
    {
     "data": {
      "text/plain": [
       "['GBM_Model.pkl']"
      ]
     },
     "execution_count": 83,
     "metadata": {},
     "output_type": "execute_result"
    }
   ],
   "source": [
    "# GBM Model #\n",
    "# save model\n",
    "gbm = GradientBoostingClassifier(max_depth= 6, n_estimators=100, max_features = 0.3)\n",
    "gbm.fit(X_scaled, y)\n",
    "joblib.dump(gbm, 'GBM_Model.pkl')\n",
    "# load model\n",
    "# gbm_pickle = joblib.load('GBM_Model.pkl')"
   ]
  }
 ],
 "metadata": {
  "colab": {
   "name": "myfile.ipynb",
   "provenance": []
  },
  "kernelspec": {
   "display_name": "Python 3 (ipykernel)",
   "language": "python",
   "name": "python3"
  },
  "language_info": {
   "codemirror_mode": {
    "name": "ipython",
    "version": 3
   },
   "file_extension": ".py",
   "mimetype": "text/x-python",
   "name": "python",
   "nbconvert_exporter": "python",
   "pygments_lexer": "ipython3",
   "version": "3.8.10"
  }
 },
 "nbformat": 4,
 "nbformat_minor": 4
}
