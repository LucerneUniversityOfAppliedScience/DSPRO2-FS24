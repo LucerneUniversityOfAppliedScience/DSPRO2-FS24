{
 "cells": [
  {
   "cell_type": "code",
   "execution_count": 2,
   "metadata": {
    "id": "etTcI_2OTfnU"
   },
   "outputs": [],
   "source": [
    "import pandas as pd\n",
    "import numpy as np\n",
    "import os\n",
    "import matplotlib.pyplot as plt\n",
    "import seaborn as sns\n",
    "import statistics\n",
    "from sklearn.model_selection import train_test_split,GridSearchCV,cross_val_score\n",
    "from sklearn.preprocessing import LabelBinarizer,StandardScaler,OrdinalEncoder\n",
    "from sklearn.metrics import confusion_matrix\n",
    "from sklearn.metrics import roc_auc_score\n",
    "from sklearn.metrics import roc_curve\n",
    "from scipy.stats import boxcox\n",
    "from sklearn.linear_model import LogisticRegression,RidgeClassifier, PassiveAggressiveClassifier\n",
    "from sklearn import metrics\n",
    "from sklearn import preprocessing\n",
    "from sklearn.ensemble import RandomForestClassifier, GradientBoostingClassifier\n",
    "from xgboost import plot_importance\n",
    "from matplotlib import pyplot\n",
    "from sklearn.naive_bayes import BernoulliNB\n",
    "from sklearn.neighbors import KNeighborsClassifier\n",
    "from sklearn.svm import LinearSVC\n",
    "from sklearn.tree import DecisionTreeClassifier\n",
    "from xgboost import XGBClassifier\n",
    "from fancyimpute import KNN, SoftImpute\n",
    "from imblearn.over_sampling import SMOTE\n",
    "import joblib\n",
    "import operator\n",
    "\n",
    "%matplotlib inline"
   ]
  },
  {
   "cell_type": "code",
   "execution_count": 3,
   "metadata": {
    "id": "wv-OTRB4UGB3"
   },
   "outputs": [],
   "source": [
    "import six\n",
    "import sys\n",
    "sys.modules['sklearn.externals.six'] = six\n",
    "import sklearn.neighbors._base\n",
    "sys.modules['sklearn.neighbors.base'] = sklearn.neighbors._base\n",
    "from sklearn.utils import _safe_indexing\n",
    "sys.modules['sklearn.utils.safe_indexing'] = sklearn.utils._safe_indexing"
   ]
  },
  {
   "cell_type": "code",
   "execution_count": 6,
   "metadata": {},
   "outputs": [],
   "source": [
    "test = pd.read_csv(\"LoansTestSet.csv\", low_memory=False)"
   ]
  },
  {
   "cell_type": "code",
   "execution_count": 16,
   "metadata": {
    "colab": {
     "base_uri": "https://localhost:8080/",
     "height": 372
    },
    "id": "tKOVXlErU_-a",
    "outputId": "69d97a1a-c372-482f-c170-eefef1c5cf73"
   },
   "outputs": [
    {
     "data": {
      "text/html": [
       "<div>\n",
       "<style scoped>\n",
       "    .dataframe tbody tr th:only-of-type {\n",
       "        vertical-align: middle;\n",
       "    }\n",
       "\n",
       "    .dataframe tbody tr th {\n",
       "        vertical-align: top;\n",
       "    }\n",
       "\n",
       "    .dataframe thead th {\n",
       "        text-align: right;\n",
       "    }\n",
       "</style>\n",
       "<table border=\"1\" class=\"dataframe\">\n",
       "  <thead>\n",
       "    <tr style=\"text-align: right;\">\n",
       "      <th></th>\n",
       "      <th>Current Loan Amount</th>\n",
       "      <th>Term</th>\n",
       "      <th>Credit Score</th>\n",
       "      <th>Years in current job</th>\n",
       "      <th>Home Ownership</th>\n",
       "      <th>Annual Income</th>\n",
       "      <th>Purpose</th>\n",
       "      <th>Monthly Debt</th>\n",
       "      <th>Years of Credit History</th>\n",
       "      <th>Months since last delinquent</th>\n",
       "      <th>Number of Open Accounts</th>\n",
       "      <th>Number of Credit Problems</th>\n",
       "      <th>Current Credit Balance</th>\n",
       "      <th>Maximum Open Credit</th>\n",
       "      <th>Bankruptcies</th>\n",
       "      <th>Tax Liens</th>\n",
       "    </tr>\n",
       "  </thead>\n",
       "  <tbody>\n",
       "    <tr>\n",
       "      <th>count</th>\n",
       "      <td>9.000000</td>\n",
       "      <td>9.000000</td>\n",
       "      <td>9.000000</td>\n",
       "      <td>9.000000</td>\n",
       "      <td>9.000000</td>\n",
       "      <td>9.000000</td>\n",
       "      <td>9.000000</td>\n",
       "      <td>9.000000</td>\n",
       "      <td>9.000000</td>\n",
       "      <td>3.000000</td>\n",
       "      <td>9.000000</td>\n",
       "      <td>9.000000</td>\n",
       "      <td>9.000000</td>\n",
       "      <td>9.000000</td>\n",
       "      <td>9.000000</td>\n",
       "      <td>9.0</td>\n",
       "    </tr>\n",
       "    <tr>\n",
       "      <th>mean</th>\n",
       "      <td>16698.222222</td>\n",
       "      <td>0.333333</td>\n",
       "      <td>7215.555556</td>\n",
       "      <td>2.444444</td>\n",
       "      <td>0.777778</td>\n",
       "      <td>55336.444444</td>\n",
       "      <td>0.444444</td>\n",
       "      <td>781.197778</td>\n",
       "      <td>19.266667</td>\n",
       "      <td>22.333333</td>\n",
       "      <td>12.444444</td>\n",
       "      <td>0.333333</td>\n",
       "      <td>15272.777778</td>\n",
       "      <td>35346.000000</td>\n",
       "      <td>0.333333</td>\n",
       "      <td>0.0</td>\n",
       "    </tr>\n",
       "    <tr>\n",
       "      <th>std</th>\n",
       "      <td>6490.181927</td>\n",
       "      <td>0.500000</td>\n",
       "      <td>279.647596</td>\n",
       "      <td>1.589899</td>\n",
       "      <td>0.666667</td>\n",
       "      <td>14038.296354</td>\n",
       "      <td>0.726483</td>\n",
       "      <td>287.208018</td>\n",
       "      <td>6.246599</td>\n",
       "      <td>11.239810</td>\n",
       "      <td>3.678013</td>\n",
       "      <td>0.500000</td>\n",
       "      <td>10441.093522</td>\n",
       "      <td>24396.807768</td>\n",
       "      <td>0.500000</td>\n",
       "      <td>0.0</td>\n",
       "    </tr>\n",
       "    <tr>\n",
       "      <th>min</th>\n",
       "      <td>9789.000000</td>\n",
       "      <td>0.000000</td>\n",
       "      <td>6630.000000</td>\n",
       "      <td>0.000000</td>\n",
       "      <td>0.000000</td>\n",
       "      <td>34171.000000</td>\n",
       "      <td>0.000000</td>\n",
       "      <td>274.590000</td>\n",
       "      <td>10.000000</td>\n",
       "      <td>10.000000</td>\n",
       "      <td>9.000000</td>\n",
       "      <td>0.000000</td>\n",
       "      <td>4252.000000</td>\n",
       "      <td>7946.000000</td>\n",
       "      <td>0.000000</td>\n",
       "      <td>0.0</td>\n",
       "    </tr>\n",
       "    <tr>\n",
       "      <th>25%</th>\n",
       "      <td>11911.000000</td>\n",
       "      <td>0.000000</td>\n",
       "      <td>7240.000000</td>\n",
       "      <td>1.000000</td>\n",
       "      <td>0.000000</td>\n",
       "      <td>47003.000000</td>\n",
       "      <td>0.000000</td>\n",
       "      <td>590.120000</td>\n",
       "      <td>16.700000</td>\n",
       "      <td>17.500000</td>\n",
       "      <td>10.000000</td>\n",
       "      <td>0.000000</td>\n",
       "      <td>7009.000000</td>\n",
       "      <td>15379.000000</td>\n",
       "      <td>0.000000</td>\n",
       "      <td>0.0</td>\n",
       "    </tr>\n",
       "    <tr>\n",
       "      <th>50%</th>\n",
       "      <td>16117.000000</td>\n",
       "      <td>0.000000</td>\n",
       "      <td>7330.000000</td>\n",
       "      <td>3.000000</td>\n",
       "      <td>1.000000</td>\n",
       "      <td>50945.000000</td>\n",
       "      <td>0.000000</td>\n",
       "      <td>871.110000</td>\n",
       "      <td>17.700000</td>\n",
       "      <td>25.000000</td>\n",
       "      <td>12.000000</td>\n",
       "      <td>0.000000</td>\n",
       "      <td>12903.000000</td>\n",
       "      <td>25012.000000</td>\n",
       "      <td>0.000000</td>\n",
       "      <td>0.0</td>\n",
       "    </tr>\n",
       "    <tr>\n",
       "      <th>75%</th>\n",
       "      <td>17705.000000</td>\n",
       "      <td>1.000000</td>\n",
       "      <td>7400.000000</td>\n",
       "      <td>3.000000</td>\n",
       "      <td>1.000000</td>\n",
       "      <td>60438.000000</td>\n",
       "      <td>1.000000</td>\n",
       "      <td>892.090000</td>\n",
       "      <td>22.800000</td>\n",
       "      <td>28.500000</td>\n",
       "      <td>13.000000</td>\n",
       "      <td>1.000000</td>\n",
       "      <td>16913.000000</td>\n",
       "      <td>54018.000000</td>\n",
       "      <td>1.000000</td>\n",
       "      <td>0.0</td>\n",
       "    </tr>\n",
       "    <tr>\n",
       "      <th>max</th>\n",
       "      <td>28988.000000</td>\n",
       "      <td>1.000000</td>\n",
       "      <td>7420.000000</td>\n",
       "      <td>5.000000</td>\n",
       "      <td>2.000000</td>\n",
       "      <td>81099.000000</td>\n",
       "      <td>2.000000</td>\n",
       "      <td>1244.020000</td>\n",
       "      <td>30.200000</td>\n",
       "      <td>32.000000</td>\n",
       "      <td>21.000000</td>\n",
       "      <td>1.000000</td>\n",
       "      <td>35706.000000</td>\n",
       "      <td>77961.000000</td>\n",
       "      <td>1.000000</td>\n",
       "      <td>0.0</td>\n",
       "    </tr>\n",
       "  </tbody>\n",
       "</table>\n",
       "</div>"
      ],
      "text/plain": [
       "       Current Loan Amount      Term  Credit Score  Years in current job  \\\n",
       "count             9.000000  9.000000      9.000000              9.000000   \n",
       "mean          16698.222222  0.333333   7215.555556              2.444444   \n",
       "std            6490.181927  0.500000    279.647596              1.589899   \n",
       "min            9789.000000  0.000000   6630.000000              0.000000   \n",
       "25%           11911.000000  0.000000   7240.000000              1.000000   \n",
       "50%           16117.000000  0.000000   7330.000000              3.000000   \n",
       "75%           17705.000000  1.000000   7400.000000              3.000000   \n",
       "max           28988.000000  1.000000   7420.000000              5.000000   \n",
       "\n",
       "       Home Ownership  Annual Income   Purpose  Monthly Debt  \\\n",
       "count        9.000000       9.000000  9.000000      9.000000   \n",
       "mean         0.777778   55336.444444  0.444444    781.197778   \n",
       "std          0.666667   14038.296354  0.726483    287.208018   \n",
       "min          0.000000   34171.000000  0.000000    274.590000   \n",
       "25%          0.000000   47003.000000  0.000000    590.120000   \n",
       "50%          1.000000   50945.000000  0.000000    871.110000   \n",
       "75%          1.000000   60438.000000  1.000000    892.090000   \n",
       "max          2.000000   81099.000000  2.000000   1244.020000   \n",
       "\n",
       "       Years of Credit History  Months since last delinquent  \\\n",
       "count                 9.000000                      3.000000   \n",
       "mean                 19.266667                     22.333333   \n",
       "std                   6.246599                     11.239810   \n",
       "min                  10.000000                     10.000000   \n",
       "25%                  16.700000                     17.500000   \n",
       "50%                  17.700000                     25.000000   \n",
       "75%                  22.800000                     28.500000   \n",
       "max                  30.200000                     32.000000   \n",
       "\n",
       "       Number of Open Accounts  Number of Credit Problems  \\\n",
       "count                 9.000000                   9.000000   \n",
       "mean                 12.444444                   0.333333   \n",
       "std                   3.678013                   0.500000   \n",
       "min                   9.000000                   0.000000   \n",
       "25%                  10.000000                   0.000000   \n",
       "50%                  12.000000                   0.000000   \n",
       "75%                  13.000000                   1.000000   \n",
       "max                  21.000000                   1.000000   \n",
       "\n",
       "       Current Credit Balance  Maximum Open Credit  Bankruptcies  Tax Liens  \n",
       "count                9.000000             9.000000      9.000000        9.0  \n",
       "mean             15272.777778         35346.000000      0.333333        0.0  \n",
       "std              10441.093522         24396.807768      0.500000        0.0  \n",
       "min               4252.000000          7946.000000      0.000000        0.0  \n",
       "25%               7009.000000         15379.000000      0.000000        0.0  \n",
       "50%              12903.000000         25012.000000      0.000000        0.0  \n",
       "75%              16913.000000         54018.000000      1.000000        0.0  \n",
       "max              35706.000000         77961.000000      1.000000        0.0  "
      ]
     },
     "execution_count": 16,
     "metadata": {},
     "output_type": "execute_result"
    }
   ],
   "source": [
    "test.describe()"
   ]
  },
  {
   "cell_type": "code",
   "execution_count": 7,
   "metadata": {
    "id": "XFGCzoBIUn0Y"
   },
   "outputs": [],
   "source": [
    "cat_cols = ['Term','Years in current job','Home Ownership','Purpose']\n",
    "\n",
    "for c in cat_cols:\n",
    "    test[c] = pd.factorize(test[c])[0]"
   ]
  },
  {
   "cell_type": "code",
   "execution_count": 8,
   "metadata": {
    "colab": {
     "base_uri": "https://localhost:8080/"
    },
    "id": "GD_EgreRUqTB",
    "outputId": "0822edd4-d625-4115-eb91-5ba7ef5b8ec0"
   },
   "outputs": [
    {
     "name": "stdout",
     "output_type": "stream",
     "text": [
      "[SoftImpute] Max Singular Value of X_init = 220732.319189\n",
      "[SoftImpute] Iter 1: observed MAE=393.868714 rank=4\n",
      "[SoftImpute] Iter 2: observed MAE=393.835770 rank=4\n",
      "[SoftImpute] Iter 3: observed MAE=393.823069 rank=4\n",
      "[SoftImpute] Iter 4: observed MAE=393.816892 rank=4\n",
      "[SoftImpute] Iter 5: observed MAE=393.813120 rank=4\n",
      "[SoftImpute] Iter 6: observed MAE=393.810394 rank=4\n",
      "[SoftImpute] Iter 7: observed MAE=393.808205 rank=4\n",
      "[SoftImpute] Iter 8: observed MAE=393.806333 rank=4\n",
      "[SoftImpute] Iter 9: observed MAE=393.804668 rank=4\n",
      "[SoftImpute] Iter 10: observed MAE=393.803152 rank=4\n",
      "[SoftImpute] Iter 11: observed MAE=393.801748 rank=4\n",
      "[SoftImpute] Iter 12: observed MAE=393.800437 rank=4\n",
      "[SoftImpute] Iter 13: observed MAE=393.799203 rank=4\n",
      "[SoftImpute] Iter 14: observed MAE=393.798037 rank=4\n",
      "[SoftImpute] Iter 15: observed MAE=393.796931 rank=4\n",
      "[SoftImpute] Iter 16: observed MAE=393.795881 rank=4\n",
      "[SoftImpute] Iter 17: observed MAE=393.794882 rank=4\n",
      "[SoftImpute] Iter 18: observed MAE=393.793931 rank=4\n",
      "[SoftImpute] Iter 19: observed MAE=393.793024 rank=4\n",
      "[SoftImpute] Iter 20: observed MAE=393.792160 rank=4\n",
      "[SoftImpute] Iter 21: observed MAE=393.791335 rank=4\n",
      "[SoftImpute] Iter 22: observed MAE=393.790548 rank=4\n",
      "[SoftImpute] Iter 23: observed MAE=393.789797 rank=4\n",
      "[SoftImpute] Iter 24: observed MAE=393.789081 rank=4\n",
      "[SoftImpute] Iter 25: observed MAE=393.788397 rank=4\n",
      "[SoftImpute] Iter 26: observed MAE=393.787744 rank=4\n",
      "[SoftImpute] Iter 27: observed MAE=393.787120 rank=4\n",
      "[SoftImpute] Iter 28: observed MAE=393.786525 rank=4\n",
      "[SoftImpute] Iter 29: observed MAE=393.785956 rank=4\n",
      "[SoftImpute] Iter 30: observed MAE=393.785414 rank=4\n",
      "[SoftImpute] Iter 31: observed MAE=393.784895 rank=4\n",
      "[SoftImpute] Iter 32: observed MAE=393.784401 rank=4\n",
      "[SoftImpute] Iter 33: observed MAE=393.783928 rank=4\n",
      "[SoftImpute] Iter 34: observed MAE=393.783477 rank=4\n",
      "[SoftImpute] Iter 35: observed MAE=393.783046 rank=4\n",
      "[SoftImpute] Iter 36: observed MAE=393.782635 rank=4\n",
      "[SoftImpute] Iter 37: observed MAE=393.782242 rank=4\n",
      "[SoftImpute] Iter 38: observed MAE=393.781867 rank=4\n",
      "[SoftImpute] Iter 39: observed MAE=393.781509 rank=4\n",
      "[SoftImpute] Iter 40: observed MAE=393.781166 rank=4\n",
      "[SoftImpute] Iter 41: observed MAE=393.780840 rank=4\n",
      "[SoftImpute] Iter 42: observed MAE=393.780528 rank=4\n",
      "[SoftImpute] Iter 43: observed MAE=393.780230 rank=4\n",
      "[SoftImpute] Iter 44: observed MAE=393.779946 rank=4\n",
      "[SoftImpute] Iter 45: observed MAE=393.779674 rank=4\n",
      "[SoftImpute] Iter 46: observed MAE=393.779415 rank=4\n",
      "[SoftImpute] Iter 47: observed MAE=393.779167 rank=4\n",
      "[SoftImpute] Iter 48: observed MAE=393.778931 rank=4\n",
      "[SoftImpute] Iter 49: observed MAE=393.778705 rank=4\n",
      "[SoftImpute] Iter 50: observed MAE=393.778489 rank=4\n",
      "[SoftImpute] Iter 51: observed MAE=393.778284 rank=4\n",
      "[SoftImpute] Iter 52: observed MAE=393.778087 rank=4\n",
      "[SoftImpute] Iter 53: observed MAE=393.777899 rank=4\n",
      "[SoftImpute] Iter 54: observed MAE=393.777720 rank=4\n",
      "[SoftImpute] Iter 55: observed MAE=393.777549 rank=4\n",
      "[SoftImpute] Iter 56: observed MAE=393.777385 rank=4\n",
      "[SoftImpute] Iter 57: observed MAE=393.777229 rank=4\n",
      "[SoftImpute] Iter 58: observed MAE=393.777080 rank=4\n",
      "[SoftImpute] Iter 59: observed MAE=393.776938 rank=4\n",
      "[SoftImpute] Iter 60: observed MAE=393.776802 rank=4\n",
      "[SoftImpute] Iter 61: observed MAE=393.776672 rank=4\n",
      "[SoftImpute] Iter 62: observed MAE=393.776548 rank=4\n",
      "[SoftImpute] Iter 63: observed MAE=393.776430 rank=4\n",
      "[SoftImpute] Iter 64: observed MAE=393.776317 rank=4\n",
      "[SoftImpute] Iter 65: observed MAE=393.776209 rank=4\n",
      "[SoftImpute] Iter 66: observed MAE=393.776106 rank=4\n",
      "[SoftImpute] Iter 67: observed MAE=393.776008 rank=4\n",
      "[SoftImpute] Iter 68: observed MAE=393.775914 rank=4\n",
      "[SoftImpute] Iter 69: observed MAE=393.775824 rank=4\n",
      "[SoftImpute] Iter 70: observed MAE=393.775739 rank=4\n",
      "[SoftImpute] Iter 71: observed MAE=393.775657 rank=4\n",
      "[SoftImpute] Iter 72: observed MAE=393.775579 rank=4\n",
      "[SoftImpute] Iter 73: observed MAE=393.775504 rank=4\n",
      "[SoftImpute] Iter 74: observed MAE=393.775433 rank=4\n",
      "[SoftImpute] Iter 75: observed MAE=393.775365 rank=4\n",
      "[SoftImpute] Iter 76: observed MAE=393.775300 rank=4\n",
      "[SoftImpute] Iter 77: observed MAE=393.775238 rank=4\n",
      "[SoftImpute] Iter 78: observed MAE=393.775179 rank=4\n",
      "[SoftImpute] Iter 79: observed MAE=393.775122 rank=4\n",
      "[SoftImpute] Iter 80: observed MAE=393.775068 rank=4\n",
      "[SoftImpute] Iter 81: observed MAE=393.775017 rank=4\n",
      "[SoftImpute] Iter 82: observed MAE=393.774968 rank=4\n",
      "[SoftImpute] Iter 83: observed MAE=393.774921 rank=4\n",
      "[SoftImpute] Stopped after iteration 83 for lambda=4414.646384\n"
     ]
    }
   ],
   "source": [
    "# Imputing missing data with soft impute\n",
    "updated_test_data=pd.DataFrame(data=SoftImpute().fit_transform(test[test.columns[3:19]],), columns=test[test.columns[3:19]].columns, index=test.index)\n"
   ]
  },
  {
   "cell_type": "code",
   "execution_count": 9,
   "metadata": {
    "id": "XmjixH60Ur9F"
   },
   "outputs": [],
   "source": [
    "# Getting the dataset ready pd.get dummies function for dropping the dummy variables\n",
    "test_data = pd.get_dummies(updated_test_data, drop_first=True)"
   ]
  },
  {
   "cell_type": "code",
   "execution_count": 10,
   "metadata": {
    "id": "ibd-MEBNUvIP"
   },
   "outputs": [],
   "source": [
    "gbm_pickle = joblib.load('GBM_Model.pkl')"
   ]
  },
  {
   "cell_type": "code",
   "execution_count": 11,
   "metadata": {
    "id": "9Bgr14kwUw7P"
   },
   "outputs": [
    {
     "name": "stderr",
     "output_type": "stream",
     "text": [
      "/home/aygul_zagidullina771/.local/lib/python3.8/site-packages/sklearn/base.py:458: UserWarning: X has feature names, but GradientBoostingClassifier was fitted without feature names\n",
      "  warnings.warn(\n"
     ]
    }
   ],
   "source": [
    "y_pred = gbm_pickle.predict(test_data)\n"
   ]
  },
  {
   "cell_type": "code",
   "execution_count": 12,
   "metadata": {
    "id": "UlVUl9WoUyqG"
   },
   "outputs": [
    {
     "name": "stderr",
     "output_type": "stream",
     "text": [
      "/home/aygul_zagidullina771/.local/lib/python3.8/site-packages/sklearn/base.py:458: UserWarning: X has feature names, but GradientBoostingClassifier was fitted without feature names\n",
      "  warnings.warn(\n"
     ]
    }
   ],
   "source": [
    "y_pred = gbm_pickle.predict_proba(test_data)\n"
   ]
  },
  {
   "cell_type": "code",
   "execution_count": 13,
   "metadata": {
    "id": "jqMwBR84Uz_w"
   },
   "outputs": [],
   "source": [
    "y_pred_1 = np.where(y_pred == 0, 'Loan Approved', 'Loan Rejected')\n"
   ]
  },
  {
   "cell_type": "code",
   "execution_count": 14,
   "metadata": {
    "id": "k-cGMFUxU1Ah"
   },
   "outputs": [],
   "source": [
    "test['Loan Status'] = y_pred_1\n",
    "\n",
    "test.to_csv('Output_Test.csv',index = False)"
   ]
  },
  {
   "cell_type": "code",
   "execution_count": 15,
   "metadata": {
    "colab": {
     "base_uri": "https://localhost:8080/"
    },
    "id": "aSMsJWZtU3Ll",
    "outputId": "9b980761-80b9-4dd5-c37b-d57645d3b39a"
   },
   "outputs": [
    {
     "data": {
      "text/plain": [
       "array([['Loan Rejected', 'Loan Rejected'],\n",
       "       ['Loan Rejected', 'Loan Rejected'],\n",
       "       ['Loan Rejected', 'Loan Rejected'],\n",
       "       ['Loan Rejected', 'Loan Rejected'],\n",
       "       ['Loan Rejected', 'Loan Rejected'],\n",
       "       ['Loan Rejected', 'Loan Rejected'],\n",
       "       ['Loan Rejected', 'Loan Rejected'],\n",
       "       ['Loan Rejected', 'Loan Rejected'],\n",
       "       ['Loan Rejected', 'Loan Rejected']], dtype='<U13')"
      ]
     },
     "execution_count": 15,
     "metadata": {},
     "output_type": "execute_result"
    }
   ],
   "source": [
    "y_pred_1"
   ]
  },
  {
   "cell_type": "code",
   "execution_count": null,
   "metadata": {
    "id": "UgYb25djVE-M"
   },
   "outputs": [],
   "source": []
  }
 ],
 "metadata": {
  "colab": {
   "name": "loan_eligibility_test.ipynb",
   "provenance": []
  },
  "kernelspec": {
   "display_name": "Python 3 (ipykernel)",
   "language": "python",
   "name": "python3"
  },
  "language_info": {
   "codemirror_mode": {
    "name": "ipython",
    "version": 3
   },
   "file_extension": ".py",
   "mimetype": "text/x-python",
   "name": "python",
   "nbconvert_exporter": "python",
   "pygments_lexer": "ipython3",
   "version": "3.8.10"
  }
 },
 "nbformat": 4,
 "nbformat_minor": 4
}
